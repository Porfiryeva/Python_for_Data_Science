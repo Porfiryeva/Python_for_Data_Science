{
 "cells": [
  {
   "cell_type": "code",
   "execution_count": 1,
   "id": "eb09f377",
   "metadata": {},
   "outputs": [],
   "source": [
    "import numpy as np"
   ]
  },
  {
   "cell_type": "markdown",
   "id": "9851734e",
   "metadata": {},
   "source": [
    "1. Создать одномерный массив Numpy под названием a из 12 последовательных целых чисел чисел от 12 до 24 невключительно"
   ]
  },
  {
   "cell_type": "code",
   "execution_count": 2,
   "id": "4ccc2fd4",
   "metadata": {},
   "outputs": [
    {
     "data": {
      "text/plain": [
       "array([12, 13, 14, 15, 16, 17, 18, 19, 20, 21, 22, 23])"
      ]
     },
     "execution_count": 2,
     "metadata": {},
     "output_type": "execute_result"
    }
   ],
   "source": [
    "a = np.arange(12, 24)\n",
    "a"
   ]
  },
  {
   "cell_type": "markdown",
   "id": "428d5acd",
   "metadata": {},
   "source": [
    "2. Создать 5 двумерных массивов разной формы из массива a. Не использовать в аргументах метода reshape число -1."
   ]
  },
  {
   "cell_type": "code",
   "execution_count": 27,
   "id": "5f3b9312",
   "metadata": {},
   "outputs": [
    {
     "data": {
      "text/plain": [
       "(array([[ 0,  1],\n",
       "        [ 2,  3],\n",
       "        [ 4,  5],\n",
       "        [ 6,  7],\n",
       "        [ 8,  9],\n",
       "        [10, 11]]),\n",
       " array([[ 0,  1,  2,  3,  4,  5],\n",
       "        [ 6,  7,  8,  9, 10, 11]]),\n",
       " array([[ 0,  1,  2,  3],\n",
       "        [ 4,  5,  6,  7],\n",
       "        [ 8,  9, 10, 11]]),\n",
       " array([[ 0,  1,  2],\n",
       "        [ 3,  4,  5],\n",
       "        [ 6,  7,  8],\n",
       "        [ 9, 10, 11]]),\n",
       " array([[ 0],\n",
       "        [ 1],\n",
       "        [ 2],\n",
       "        [ 3],\n",
       "        [ 4],\n",
       "        [ 5],\n",
       "        [ 6],\n",
       "        [ 7],\n",
       "        [ 8],\n",
       "        [ 9],\n",
       "        [10],\n",
       "        [11]]))"
      ]
     },
     "execution_count": 27,
     "metadata": {},
     "output_type": "execute_result"
    }
   ],
   "source": [
    "b = a.reshape(6, 2)\n",
    "c = a.reshape(2, 6)\n",
    "d = a.reshape(3, 4)\n",
    "e = a.reshape(4, 3)\n",
    "f = a.reshape(12, 1)\n",
    "\n",
    "b, c, d, e, f"
   ]
  },
  {
   "cell_type": "markdown",
   "id": "f8353e84",
   "metadata": {},
   "source": [
    "3. Создать 5 двумерных массивов разной формы из массива a. Использовать в аргументах метода reshape число -1 (в трех примерах - для обозначения числа столбцов, в двух - для строк)."
   ]
  },
  {
   "cell_type": "code",
   "execution_count": 4,
   "id": "19efc44b",
   "metadata": {},
   "outputs": [
    {
     "data": {
      "text/plain": [
       "(array([[12, 13],\n",
       "        [14, 15],\n",
       "        [16, 17],\n",
       "        [18, 19],\n",
       "        [20, 21],\n",
       "        [22, 23]]),\n",
       " array([[12, 13, 14, 15, 16, 17],\n",
       "        [18, 19, 20, 21, 22, 23]]),\n",
       " array([[12, 13, 14, 15],\n",
       "        [16, 17, 18, 19],\n",
       "        [20, 21, 22, 23]]),\n",
       " array([[12, 13, 14],\n",
       "        [15, 16, 17],\n",
       "        [18, 19, 20],\n",
       "        [21, 22, 23]]),\n",
       " array([[12, 13, 14, 15, 16, 17, 18, 19, 20, 21, 22, 23]]))"
      ]
     },
     "execution_count": 4,
     "metadata": {},
     "output_type": "execute_result"
    }
   ],
   "source": [
    "b = a.reshape(-1, 2)\n",
    "c = a.reshape(-1, 6)\n",
    "d = a.reshape(3, -1)\n",
    "e = a.reshape(4, -1)\n",
    "f = a.reshape(1, -1)\n",
    "\n",
    "b, c, d, e, f"
   ]
  },
  {
   "cell_type": "markdown",
   "id": "2db4ba6e",
   "metadata": {},
   "source": [
    "4. Можно ли массив Numpy, состоящий из одного столбца и 12 строк, назвать одномерным?"
   ]
  },
  {
   "cell_type": "markdown",
   "id": "6b6646a5",
   "metadata": {},
   "source": [
    "        Зависит от определения одномерного массива. Фактически у такого массива одна ось, вдоль которой изменяется индекс элементов (т.к. значение второй - 1), и можно получить любой элемент, обратившись к этой оси.\n",
    "        Формально всё же - двумерный массив с одним столбцом (вектор-столбец, т.е. ориентированный вектор)."
   ]
  },
  {
   "cell_type": "code",
   "execution_count": 5,
   "id": "e911f383",
   "metadata": {},
   "outputs": [
    {
     "name": "stdout",
     "output_type": "stream",
     "text": [
      "(12, 1) 2\n"
     ]
    }
   ],
   "source": [
    "a = np.arange(12).reshape(12, 1)\n",
    "\n",
    "# два измерения\n",
    "print(np.shape(a), a.ndim)"
   ]
  },
  {
   "cell_type": "markdown",
   "id": "80f57c20",
   "metadata": {},
   "source": [
    "5.  - Создать массив из 3 строк и 4 столбцов, состоящий из случайных чисел с плавающей запятой из нормального распределения со средним, равным 0 и среднеквадратичным отклонением, равным 1.0. \n",
    "    "
   ]
  },
  {
   "cell_type": "code",
   "execution_count": 6,
   "id": "4e17aba0",
   "metadata": {},
   "outputs": [
    {
     "data": {
      "text/plain": [
       "array([[0.3765755 , 0.27733614, 0.19288113, 0.11256468],\n",
       "       [0.03017813, 0.1027393 , 0.02440353, 0.1665785 ],\n",
       "       [0.04620731, 0.33679933, 0.99426415, 0.32904556]])"
      ]
     },
     "execution_count": 6,
     "metadata": {},
     "output_type": "execute_result"
    }
   ],
   "source": [
    "x = np.random.sample((3, 4))\n",
    "x"
   ]
  },
  {
   "cell_type": "markdown",
   "id": "d5c0559e",
   "metadata": {},
   "source": [
    "- Получить из этого массива одномерный массив с таким же атрибутом size, как и исходный массив."
   ]
  },
  {
   "cell_type": "code",
   "execution_count": 7,
   "id": "0b237d95",
   "metadata": {},
   "outputs": [
    {
     "data": {
      "text/plain": [
       "(array([0.3765755 , 0.27733614, 0.19288113, 0.11256468, 0.03017813,\n",
       "        0.1027393 , 0.02440353, 0.1665785 , 0.04620731, 0.33679933,\n",
       "        0.99426415, 0.32904556]),\n",
       " True)"
      ]
     },
     "execution_count": 7,
     "metadata": {},
     "output_type": "execute_result"
    }
   ],
   "source": [
    "y = x.flatten()\n",
    "y, y.size == x.size"
   ]
  },
  {
   "cell_type": "markdown",
   "id": "80696fdb",
   "metadata": {},
   "source": [
    "6. Создать массив a, состоящий из целых чисел, убывающих от 20 до 0 невключительно с интервалом 2."
   ]
  },
  {
   "cell_type": "code",
   "execution_count": 8,
   "id": "4a0f971b",
   "metadata": {},
   "outputs": [
    {
     "data": {
      "text/plain": [
       "array([20, 18, 16, 14, 12, 10,  8,  6,  4,  2])"
      ]
     },
     "execution_count": 8,
     "metadata": {},
     "output_type": "execute_result"
    }
   ],
   "source": [
    "a = np.arange(20, 0, -2)\n",
    "a\n",
    "\n",
    "# или\n",
    "# a = np.arange(2, 21, 2)\n",
    "# a = np.flip(a, 0)"
   ]
  },
  {
   "cell_type": "markdown",
   "id": "51de5ff4",
   "metadata": {},
   "source": [
    "7. Создать массив b, состоящий из 1 строки и 10 столбцов: целых чисел, убывающих от 20 до 1 невключительно с интервалом 2. В чем разница между массивами a и b?"
   ]
  },
  {
   "cell_type": "code",
   "execution_count": 9,
   "id": "111eee0d",
   "metadata": {},
   "outputs": [
    {
     "data": {
      "text/plain": [
       "array([[20],\n",
       "       [18],\n",
       "       [16],\n",
       "       [14],\n",
       "       [12],\n",
       "       [10],\n",
       "       [ 8],\n",
       "       [ 6],\n",
       "       [ 4],\n",
       "       [ 2]])"
      ]
     },
     "execution_count": 9,
     "metadata": {},
     "output_type": "execute_result"
    }
   ],
   "source": [
    "b = np.arange(20, 1, -2).reshape(10, 1)\n",
    "b"
   ]
  },
  {
   "cell_type": "code",
   "execution_count": 10,
   "id": "cec3af89",
   "metadata": {},
   "outputs": [
    {
     "name": "stdout",
     "output_type": "stream",
     "text": [
      "Форма a: (10,), число измерений a: 1.\n",
      "Форма b: (10, 1), число измерений b: 2\n"
     ]
    }
   ],
   "source": [
    "print(f'Форма a: {a.shape}, число измерений a: {a.ndim}.\\nФорма b: {b.shape}, число измерений b: {b.ndim}')"
   ]
  },
  {
   "cell_type": "markdown",
   "id": "5af8aa85",
   "metadata": {},
   "source": [
    "8. Вертикально соединить массивы a и b. a - двумерный массив из нулей, число строк которого больше 1 и на 1 меньше, чем число строк двумерного массива b, состоящего из единиц. Итоговый массив v должен иметь атрибут size, равный 10."
   ]
  },
  {
   "cell_type": "code",
   "execution_count": 11,
   "id": "155c1538",
   "metadata": {},
   "outputs": [
    {
     "data": {
      "text/plain": [
       "(array([[0., 0.],\n",
       "        [0., 0.],\n",
       "        [1., 1.],\n",
       "        [1., 1.],\n",
       "        [1., 1.]]),\n",
       " 10)"
      ]
     },
     "execution_count": 11,
     "metadata": {},
     "output_type": "execute_result"
    }
   ],
   "source": [
    "a = np.zeros((2, 2))\n",
    "b = np.ones((3, 2))\n",
    "\n",
    "v = np.vstack((a, b))\n",
    "# или\n",
    "# np.concatenate((a, b), axis=0)\n",
    "\n",
    "v, v.size"
   ]
  },
  {
   "cell_type": "markdown",
   "id": "547f337a",
   "metadata": {},
   "source": [
    "9.  - Создать одномерный массив а, состоящий из последовательности целых чисел от 0 до 12."
   ]
  },
  {
   "cell_type": "code",
   "execution_count": 12,
   "id": "eb99144e",
   "metadata": {},
   "outputs": [
    {
     "data": {
      "text/plain": [
       "array([ 0,  1,  2,  3,  4,  5,  6,  7,  8,  9, 10, 11])"
      ]
     },
     "execution_count": 12,
     "metadata": {},
     "output_type": "execute_result"
    }
   ],
   "source": [
    "a = np.arange(0, 12)\n",
    "a"
   ]
  },
  {
   "cell_type": "markdown",
   "id": "6ca27629",
   "metadata": {},
   "source": [
    "- Поменять форму этого массива, чтобы получилась матрица A (двумерный массив Numpy), состоящая из 4 строк и 3 столбцов."
   ]
  },
  {
   "cell_type": "code",
   "execution_count": 28,
   "id": "77875d07",
   "metadata": {},
   "outputs": [
    {
     "data": {
      "text/plain": [
       "array([[ 0,  1,  2],\n",
       "       [ 3,  4,  5],\n",
       "       [ 6,  7,  8],\n",
       "       [ 9, 10, 11]])"
      ]
     },
     "execution_count": 28,
     "metadata": {},
     "output_type": "execute_result"
    }
   ],
   "source": [
    "A = a.reshape(4, 3)\n",
    "A"
   ]
  },
  {
   "cell_type": "markdown",
   "id": "8f39bebe",
   "metadata": {},
   "source": [
    "- Получить матрицу At путем транспонирования матрицы A. "
   ]
  },
  {
   "cell_type": "code",
   "execution_count": 14,
   "id": "67f8a9bd",
   "metadata": {},
   "outputs": [
    {
     "data": {
      "text/plain": [
       "array([[ 0,  3,  6,  9],\n",
       "       [ 1,  4,  7, 10],\n",
       "       [ 2,  5,  8, 11]])"
      ]
     },
     "execution_count": 14,
     "metadata": {},
     "output_type": "execute_result"
    }
   ],
   "source": [
    "At = A.T\n",
    "At"
   ]
  },
  {
   "cell_type": "markdown",
   "id": "374b7387",
   "metadata": {},
   "source": [
    "- Получить матрицу B, умножив матрицу A на матрицу At с помощью матричного умножения."
   ]
  },
  {
   "cell_type": "code",
   "execution_count": 34,
   "id": "0f2e0b04",
   "metadata": {},
   "outputs": [
    {
     "data": {
      "text/plain": [
       "array([[  5,  14,  23,  32],\n",
       "       [ 14,  50,  86, 122],\n",
       "       [ 23,  86, 149, 212],\n",
       "       [ 32, 122, 212, 302]])"
      ]
     },
     "execution_count": 34,
     "metadata": {},
     "output_type": "execute_result"
    }
   ],
   "source": [
    "B = A @ At\n",
    "B"
   ]
  },
  {
   "cell_type": "markdown",
   "id": "7e51dd38",
   "metadata": {},
   "source": [
    "- Какой размер имеет матрица B? Получится ли вычислить обратную матрицу для матрицы B и почему?"
   ]
  },
  {
   "cell_type": "markdown",
   "id": "b1870747",
   "metadata": {},
   "source": [
    "По определению: умножаем матрицу A размером 4x3 на матрицу размером 3x4 получаем 4x4 (число столбцов первой матрицы совпадает с числом строк второй матрицы, в итоге -  матрица с числом *строк* как у первой и *столбцов* - как у второй)"
   ]
  },
  {
   "cell_type": "code",
   "execution_count": 35,
   "id": "04cb6d83",
   "metadata": {},
   "outputs": [
    {
     "data": {
      "text/plain": [
       "(16, (4, 4))"
      ]
     },
     "execution_count": 35,
     "metadata": {},
     "output_type": "execute_result"
    }
   ],
   "source": [
    "B.size, B.shape"
   ]
  },
  {
   "cell_type": "code",
   "execution_count": 36,
   "id": "38d47ff3",
   "metadata": {},
   "outputs": [
    {
     "name": "stdout",
     "output_type": "stream",
     "text": [
      "0.0\n"
     ]
    }
   ],
   "source": [
    "d = np.linalg.det(B)\n",
    "print(d)"
   ]
  },
  {
   "cell_type": "markdown",
   "id": "596dffa7",
   "metadata": {},
   "source": [
    "Так как d - определитель матрицы B - равен нулю, то посчитать обратную матрицу не получится: определитель обратной матрицы был бы равен 1/d, что вызывает некоторые проблемы"
   ]
  },
  {
   "cell_type": "markdown",
   "id": "f64bd584",
   "metadata": {},
   "source": [
    "10. Инициализируйте генератор случайных числе с помощью объекта seed, равного 42."
   ]
  },
  {
   "cell_type": "code",
   "execution_count": 37,
   "id": "5ba960c5",
   "metadata": {},
   "outputs": [
    {
     "data": {
      "text/plain": [
       "array([0.37454012, 0.95071431, 0.73199394, 0.59865848])"
      ]
     },
     "execution_count": 37,
     "metadata": {},
     "output_type": "execute_result"
    }
   ],
   "source": [
    "np.random.seed(42)\n",
    "np.random.random(4)"
   ]
  },
  {
   "cell_type": "code",
   "execution_count": 38,
   "id": "7e355a86",
   "metadata": {},
   "outputs": [
    {
     "data": {
      "text/plain": [
       "array([0.37454012, 0.95071431, 0.73199394, 0.59865848])"
      ]
     },
     "execution_count": 38,
     "metadata": {},
     "output_type": "execute_result"
    }
   ],
   "source": [
    "np.random.seed(42)\n",
    "np.random.random(4)"
   ]
  },
  {
   "cell_type": "markdown",
   "id": "3d64810d",
   "metadata": {},
   "source": [
    "11. Создайте одномерный массив c, составленный из последовательности 16-ти случайных равномерно распределенных целых чисел от 0 до 16 невключительно. "
   ]
  },
  {
   "cell_type": "code",
   "execution_count": 39,
   "id": "1996abc2",
   "metadata": {
    "scrolled": true
   },
   "outputs": [
    {
     "name": "stdout",
     "output_type": "stream",
     "text": [
      "[ 6  9  2  6 10 10  7  4  3  7  7  2  5  4  1  7]\n"
     ]
    }
   ],
   "source": [
    "c = np.random.randint(0, 16, 16)\n",
    "print(c)"
   ]
  },
  {
   "cell_type": "markdown",
   "id": "b969930c",
   "metadata": {},
   "source": [
    "12. - Поменяйте его форму так, чтобы получилась квадратная матрица C. "
   ]
  },
  {
   "cell_type": "code",
   "execution_count": 40,
   "id": "7df13eb8",
   "metadata": {},
   "outputs": [
    {
     "data": {
      "text/plain": [
       "array([[ 6,  9,  2,  6],\n",
       "       [10, 10,  7,  4],\n",
       "       [ 3,  7,  7,  2],\n",
       "       [ 5,  4,  1,  7]])"
      ]
     },
     "execution_count": 40,
     "metadata": {},
     "output_type": "execute_result"
    }
   ],
   "source": [
    "C = c.reshape(4, 4)\n",
    "C"
   ]
  },
  {
   "cell_type": "markdown",
   "id": "3fa196a0",
   "metadata": {},
   "source": [
    "- Получите матрицу D, поэлементно прибавив матрицу B из предыдущего вопроса к матрице C, умноженной на 10."
   ]
  },
  {
   "cell_type": "code",
   "execution_count": 41,
   "id": "f0f203b8",
   "metadata": {},
   "outputs": [
    {
     "data": {
      "text/plain": [
       "array([[ 65, 104,  43,  92],\n",
       "       [114, 150, 156, 162],\n",
       "       [ 53, 156, 219, 232],\n",
       "       [ 82, 162, 222, 372]])"
      ]
     },
     "execution_count": 41,
     "metadata": {},
     "output_type": "execute_result"
    }
   ],
   "source": [
    "D = B + C * 10\n",
    "D"
   ]
  },
  {
   "cell_type": "markdown",
   "id": "66ff550d",
   "metadata": {},
   "source": [
    "- Вычислите определитель, ранг и обратную матрицу D_inv для D."
   ]
  },
  {
   "cell_type": "code",
   "execution_count": 42,
   "id": "ebb6cfb9",
   "metadata": {},
   "outputs": [
    {
     "name": "stdout",
     "output_type": "stream",
     "text": [
      "Определитель: -113544000.00000009, ранг: 4, обратная матрица:\n",
      "[[-0.01028377  0.01901606 -0.01552473  0.0039442 ]\n",
      " [ 0.02029909 -0.01187416  0.01174487 -0.00717396]\n",
      " [-0.01361499  0.00766399  0.00475851 -0.00293807]\n",
      " [ 0.001552   -0.00359438 -0.00453234  0.00669626]]\n"
     ]
    }
   ],
   "source": [
    "D_d = np.linalg.det(D)\n",
    "\n",
    "D_r = np.linalg.matrix_rank(D)\n",
    "\n",
    "D_inv = np.linalg.inv(D)\n",
    "\n",
    "print(f'Определитель: {D_d}, ранг: {D_r}, обратная матрица:\\n{D_inv}')"
   ]
  },
  {
   "cell_type": "markdown",
   "id": "de622bb8",
   "metadata": {},
   "source": [
    "13. - Приравняйте к нулю отрицательные числа в матрице D_inv, а положительные - к единице. "
   ]
  },
  {
   "cell_type": "code",
   "execution_count": 43,
   "id": "d092b8ab",
   "metadata": {},
   "outputs": [
    {
     "data": {
      "text/plain": [
       "array([[0, 1, 0, 1],\n",
       "       [1, 0, 1, 0],\n",
       "       [0, 1, 1, 0],\n",
       "       [1, 0, 0, 1]])"
      ]
     },
     "execution_count": 43,
     "metadata": {},
     "output_type": "execute_result"
    }
   ],
   "source": [
    "D_inv = np.where(D_inv < 0, 0, 1)\n",
    "D_inv"
   ]
  },
  {
   "cell_type": "markdown",
   "id": "21ecfc71",
   "metadata": {},
   "source": [
    "- Убедитесь, что в матрице D_inv остались только нули и единицы."
   ]
  },
  {
   "cell_type": "code",
   "execution_count": 44,
   "id": "61cbe788",
   "metadata": {},
   "outputs": [
    {
     "data": {
      "text/plain": [
       "array([ True,  True])"
      ]
     },
     "execution_count": 44,
     "metadata": {},
     "output_type": "execute_result"
    }
   ],
   "source": [
    "np.unique(D_inv) == [0, 1]"
   ]
  },
  {
   "cell_type": "markdown",
   "id": "1b577a62",
   "metadata": {},
   "source": [
    "- С помощью функции numpy.where, используя матрицу D_inv в качестве маски, а матрицы B и C - в качестве источников данных, получите матрицу E размером 4x4. \n",
    "\n",
    "            Элементы матрицы E, для которых соответствующий элемент матрицы D_inv равен 1, должны быть равны соответствующему элементу матрицы B, а элементы матрицы E, для которых соответствующий элемент матрицы D_inv равен 0, должны быть равны соответствующему элементу матрицы C."
   ]
  },
  {
   "cell_type": "code",
   "execution_count": 45,
   "id": "c2cffe0d",
   "metadata": {},
   "outputs": [
    {
     "data": {
      "text/plain": [
       "array([[  6,  14,   2,  32],\n",
       "       [ 14,  10,  86,   4],\n",
       "       [  3,  86, 149,   2],\n",
       "       [ 32,   4,   1, 302]])"
      ]
     },
     "execution_count": 45,
     "metadata": {},
     "output_type": "execute_result"
    }
   ],
   "source": [
    "E = np.where(D_inv == 1, B, C)\n",
    "E"
   ]
  },
  {
   "cell_type": "code",
   "execution_count": null,
   "id": "79891933",
   "metadata": {},
   "outputs": [],
   "source": []
  }
 ],
 "metadata": {
  "kernelspec": {
   "display_name": "Python 3",
   "language": "python",
   "name": "python3"
  },
  "language_info": {
   "codemirror_mode": {
    "name": "ipython",
    "version": 3
   },
   "file_extension": ".py",
   "mimetype": "text/x-python",
   "name": "python",
   "nbconvert_exporter": "python",
   "pygments_lexer": "ipython3",
   "version": "3.8.8"
  }
 },
 "nbformat": 4,
 "nbformat_minor": 5
}
