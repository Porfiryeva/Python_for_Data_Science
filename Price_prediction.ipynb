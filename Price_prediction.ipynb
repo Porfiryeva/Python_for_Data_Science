{
 "cells": [
  {
   "cell_type": "markdown",
   "id": "c2f6edd2",
   "metadata": {},
   "source": [
    "# Real Estate Price Prediction"
   ]
  },
  {
   "cell_type": "markdown",
   "id": "7ef1a4a3",
   "metadata": {},
   "source": [
    "**Подключение библиотек и скриптов**"
   ]
  },
  {
   "cell_type": "code",
   "execution_count": 1,
   "id": "c7913db6",
   "metadata": {},
   "outputs": [],
   "source": [
    "import numpy as np\n",
    "import pandas as pd\n",
    "import random\n",
    "\n",
    "from sklearn.model_selection import train_test_split, cross_val_score\n",
    "# from sklearn.preprocessing import StandardScaler, RobustScaler\n",
    "from sklearn.ensemble import RandomForestRegressor\n",
    "from sklearn.metrics import r2_score as r2\n",
    "from sklearn.model_selection import KFold, GridSearchCV\n",
    "\n",
    "from datetime import datetime\n",
    "\n",
    "import matplotlib\n",
    "import matplotlib.pyplot as plt\n",
    "import seaborn as sns\n",
    "from scipy import stats\n",
    "\n",
    "%matplotlib inline"
   ]
  },
  {
   "cell_type": "code",
   "execution_count": 2,
   "id": "daea6f39",
   "metadata": {},
   "outputs": [],
   "source": [
    "import warnings\n",
    "warnings.filterwarnings('ignore')"
   ]
  },
  {
   "cell_type": "code",
   "execution_count": 3,
   "id": "75cb2f3f",
   "metadata": {},
   "outputs": [],
   "source": [
    "matplotlib.rcParams.update({'font.size': 14})"
   ]
  },
  {
   "cell_type": "code",
   "execution_count": 4,
   "id": "04d20de4",
   "metadata": {},
   "outputs": [],
   "source": [
    "def evaluate_preds(train_true_values, train_pred_values, test_true_values, test_pred_values):\n",
    "    print(\"Train R2:\\t\" + str(round(r2(train_true_values, train_pred_values), 3)))\n",
    "    print(\"Test R2:\\t\" + str(round(r2(test_true_values, test_pred_values), 3)))\n",
    "    \n",
    "    plt.figure(figsize=(18,10))\n",
    "    \n",
    "    # 121 - nrows, ncols, index (индекс 1)\n",
    "    plt.subplot(121)\n",
    "    sns.scatterplot(x=train_pred_values, y=train_true_values)\n",
    "    plt.xlabel('Predicted values')\n",
    "    plt.ylabel('True values')\n",
    "    plt.title('Train sample prediction')\n",
    "    \n",
    "    # 121 - nrows, ncols, index (индекс 2)\n",
    "    plt.subplot(122)\n",
    "    sns.scatterplot(x=test_pred_values, y=test_true_values)\n",
    "    plt.xlabel('Predicted values')\n",
    "    plt.ylabel('True values')\n",
    "    plt.title('Test sample prediction')\n",
    "\n",
    "    plt.show()"
   ]
  },
  {
   "cell_type": "markdown",
   "id": "d24a8a0c",
   "metadata": {},
   "source": [
    "**Пути к директориям и файлам**"
   ]
  },
  {
   "cell_type": "code",
   "execution_count": 5,
   "id": "e14ccfa2",
   "metadata": {},
   "outputs": [],
   "source": [
    "TRAIN_DATASET_PATH = './train.csv'\n",
    "TEST_DATASET_PATH = './test.csv'"
   ]
  },
  {
   "cell_type": "markdown",
   "id": "15adbe3b",
   "metadata": {},
   "source": [
    "### Загрузка данных"
   ]
  },
  {
   "cell_type": "markdown",
   "id": "7b0851bf",
   "metadata": {},
   "source": [
    "**Описание датасета**\n",
    "\n",
    "* **Id** - идентификационный номер квартиры\n",
    "* **DistrictId** - идентификационный номер района\n",
    "* **Rooms** - количество комнат\n",
    "* **Square** - площадь\n",
    "* **LifeSquare** - жилая площадь\n",
    "* **KitchenSquare** - площадь кухни\n",
    "* **Floor** - этаж\n",
    "* **HouseFloor** - количество этажей в доме\n",
    "* **HouseYear** - год постройки дома\n",
    "* **Ecology_1, Ecology_2, Ecology_3** - экологические показатели местности\n",
    "* **Social_1, Social_2, Social_3** - социальные показатели местности\n",
    "* **Healthcare_1, Helthcare_2** - показатели местности, связанные с охраной здоровья\n",
    "* **Shops_1, Shops_2** - показатели, связанные с наличием магазинов, торговых центров\n",
    "* **Price** - цена квартиры"
   ]
  },
  {
   "cell_type": "code",
   "execution_count": 6,
   "id": "43ecbe68",
   "metadata": {},
   "outputs": [
    {
     "data": {
      "text/html": [
       "<div>\n",
       "<style scoped>\n",
       "    .dataframe tbody tr th:only-of-type {\n",
       "        vertical-align: middle;\n",
       "    }\n",
       "\n",
       "    .dataframe tbody tr th {\n",
       "        vertical-align: top;\n",
       "    }\n",
       "\n",
       "    .dataframe thead th {\n",
       "        text-align: right;\n",
       "    }\n",
       "</style>\n",
       "<table border=\"1\" class=\"dataframe\">\n",
       "  <thead>\n",
       "    <tr style=\"text-align: right;\">\n",
       "      <th></th>\n",
       "      <th>Id</th>\n",
       "      <th>DistrictId</th>\n",
       "      <th>Rooms</th>\n",
       "      <th>Square</th>\n",
       "      <th>LifeSquare</th>\n",
       "      <th>KitchenSquare</th>\n",
       "      <th>Floor</th>\n",
       "      <th>HouseFloor</th>\n",
       "      <th>HouseYear</th>\n",
       "      <th>Ecology_1</th>\n",
       "      <th>Ecology_2</th>\n",
       "      <th>Ecology_3</th>\n",
       "      <th>Social_1</th>\n",
       "      <th>Social_2</th>\n",
       "      <th>Social_3</th>\n",
       "      <th>Healthcare_1</th>\n",
       "      <th>Helthcare_2</th>\n",
       "      <th>Shops_1</th>\n",
       "      <th>Shops_2</th>\n",
       "      <th>Price</th>\n",
       "    </tr>\n",
       "  </thead>\n",
       "  <tbody>\n",
       "    <tr>\n",
       "      <th>9995</th>\n",
       "      <td>1260</td>\n",
       "      <td>61</td>\n",
       "      <td>2.0</td>\n",
       "      <td>49.090728</td>\n",
       "      <td>33.272626</td>\n",
       "      <td>6.0</td>\n",
       "      <td>3</td>\n",
       "      <td>12.0</td>\n",
       "      <td>1981</td>\n",
       "      <td>0.300323</td>\n",
       "      <td>B</td>\n",
       "      <td>B</td>\n",
       "      <td>52</td>\n",
       "      <td>10311</td>\n",
       "      <td>6</td>\n",
       "      <td>NaN</td>\n",
       "      <td>1</td>\n",
       "      <td>9</td>\n",
       "      <td>B</td>\n",
       "      <td>119367.455796</td>\n",
       "    </tr>\n",
       "    <tr>\n",
       "      <th>9996</th>\n",
       "      <td>16265</td>\n",
       "      <td>27</td>\n",
       "      <td>2.0</td>\n",
       "      <td>64.307684</td>\n",
       "      <td>37.038420</td>\n",
       "      <td>9.0</td>\n",
       "      <td>13</td>\n",
       "      <td>0.0</td>\n",
       "      <td>1977</td>\n",
       "      <td>0.072158</td>\n",
       "      <td>B</td>\n",
       "      <td>B</td>\n",
       "      <td>2</td>\n",
       "      <td>629</td>\n",
       "      <td>1</td>\n",
       "      <td>NaN</td>\n",
       "      <td>0</td>\n",
       "      <td>0</td>\n",
       "      <td>A</td>\n",
       "      <td>199715.148807</td>\n",
       "    </tr>\n",
       "    <tr>\n",
       "      <th>9997</th>\n",
       "      <td>2795</td>\n",
       "      <td>178</td>\n",
       "      <td>1.0</td>\n",
       "      <td>29.648057</td>\n",
       "      <td>16.555363</td>\n",
       "      <td>5.0</td>\n",
       "      <td>3</td>\n",
       "      <td>5.0</td>\n",
       "      <td>1958</td>\n",
       "      <td>0.460556</td>\n",
       "      <td>B</td>\n",
       "      <td>B</td>\n",
       "      <td>20</td>\n",
       "      <td>4386</td>\n",
       "      <td>14</td>\n",
       "      <td>NaN</td>\n",
       "      <td>1</td>\n",
       "      <td>5</td>\n",
       "      <td>B</td>\n",
       "      <td>165953.912580</td>\n",
       "    </tr>\n",
       "    <tr>\n",
       "      <th>9998</th>\n",
       "      <td>14561</td>\n",
       "      <td>21</td>\n",
       "      <td>1.0</td>\n",
       "      <td>32.330292</td>\n",
       "      <td>22.326870</td>\n",
       "      <td>5.0</td>\n",
       "      <td>3</td>\n",
       "      <td>9.0</td>\n",
       "      <td>1969</td>\n",
       "      <td>0.194489</td>\n",
       "      <td>B</td>\n",
       "      <td>B</td>\n",
       "      <td>47</td>\n",
       "      <td>8004</td>\n",
       "      <td>3</td>\n",
       "      <td>125.0</td>\n",
       "      <td>3</td>\n",
       "      <td>5</td>\n",
       "      <td>B</td>\n",
       "      <td>171842.411855</td>\n",
       "    </tr>\n",
       "    <tr>\n",
       "      <th>9999</th>\n",
       "      <td>7202</td>\n",
       "      <td>94</td>\n",
       "      <td>1.0</td>\n",
       "      <td>35.815476</td>\n",
       "      <td>22.301367</td>\n",
       "      <td>6.0</td>\n",
       "      <td>9</td>\n",
       "      <td>9.0</td>\n",
       "      <td>1975</td>\n",
       "      <td>0.127376</td>\n",
       "      <td>B</td>\n",
       "      <td>B</td>\n",
       "      <td>43</td>\n",
       "      <td>8429</td>\n",
       "      <td>3</td>\n",
       "      <td>NaN</td>\n",
       "      <td>3</td>\n",
       "      <td>9</td>\n",
       "      <td>B</td>\n",
       "      <td>177685.627486</td>\n",
       "    </tr>\n",
       "  </tbody>\n",
       "</table>\n",
       "</div>"
      ],
      "text/plain": [
       "         Id  DistrictId  Rooms     Square  LifeSquare  KitchenSquare  Floor  \\\n",
       "9995   1260          61    2.0  49.090728   33.272626            6.0      3   \n",
       "9996  16265          27    2.0  64.307684   37.038420            9.0     13   \n",
       "9997   2795         178    1.0  29.648057   16.555363            5.0      3   \n",
       "9998  14561          21    1.0  32.330292   22.326870            5.0      3   \n",
       "9999   7202          94    1.0  35.815476   22.301367            6.0      9   \n",
       "\n",
       "      HouseFloor  HouseYear  Ecology_1 Ecology_2 Ecology_3  Social_1  \\\n",
       "9995        12.0       1981   0.300323         B         B        52   \n",
       "9996         0.0       1977   0.072158         B         B         2   \n",
       "9997         5.0       1958   0.460556         B         B        20   \n",
       "9998         9.0       1969   0.194489         B         B        47   \n",
       "9999         9.0       1975   0.127376         B         B        43   \n",
       "\n",
       "      Social_2  Social_3  Healthcare_1  Helthcare_2  Shops_1 Shops_2  \\\n",
       "9995     10311         6           NaN            1        9       B   \n",
       "9996       629         1           NaN            0        0       A   \n",
       "9997      4386        14           NaN            1        5       B   \n",
       "9998      8004         3         125.0            3        5       B   \n",
       "9999      8429         3           NaN            3        9       B   \n",
       "\n",
       "              Price  \n",
       "9995  119367.455796  \n",
       "9996  199715.148807  \n",
       "9997  165953.912580  \n",
       "9998  171842.411855  \n",
       "9999  177685.627486  "
      ]
     },
     "execution_count": 6,
     "metadata": {},
     "output_type": "execute_result"
    }
   ],
   "source": [
    "train_df = pd.read_csv(TRAIN_DATASET_PATH)\n",
    "train_df.tail()"
   ]
  },
  {
   "cell_type": "code",
   "execution_count": 7,
   "id": "b531d22e",
   "metadata": {},
   "outputs": [
    {
     "data": {
      "text/html": [
       "<div>\n",
       "<style scoped>\n",
       "    .dataframe tbody tr th:only-of-type {\n",
       "        vertical-align: middle;\n",
       "    }\n",
       "\n",
       "    .dataframe tbody tr th {\n",
       "        vertical-align: top;\n",
       "    }\n",
       "\n",
       "    .dataframe thead th {\n",
       "        text-align: right;\n",
       "    }\n",
       "</style>\n",
       "<table border=\"1\" class=\"dataframe\">\n",
       "  <thead>\n",
       "    <tr style=\"text-align: right;\">\n",
       "      <th></th>\n",
       "      <th>Id</th>\n",
       "      <th>DistrictId</th>\n",
       "      <th>Rooms</th>\n",
       "      <th>Square</th>\n",
       "      <th>LifeSquare</th>\n",
       "      <th>KitchenSquare</th>\n",
       "      <th>Floor</th>\n",
       "      <th>HouseFloor</th>\n",
       "      <th>HouseYear</th>\n",
       "      <th>Ecology_1</th>\n",
       "      <th>Ecology_2</th>\n",
       "      <th>Ecology_3</th>\n",
       "      <th>Social_1</th>\n",
       "      <th>Social_2</th>\n",
       "      <th>Social_3</th>\n",
       "      <th>Healthcare_1</th>\n",
       "      <th>Helthcare_2</th>\n",
       "      <th>Shops_1</th>\n",
       "      <th>Shops_2</th>\n",
       "    </tr>\n",
       "  </thead>\n",
       "  <tbody>\n",
       "    <tr>\n",
       "      <th>4995</th>\n",
       "      <td>10379</td>\n",
       "      <td>29</td>\n",
       "      <td>2.0</td>\n",
       "      <td>43.177521</td>\n",
       "      <td>30.339945</td>\n",
       "      <td>5.0</td>\n",
       "      <td>6</td>\n",
       "      <td>5.0</td>\n",
       "      <td>1962</td>\n",
       "      <td>0.069660</td>\n",
       "      <td>B</td>\n",
       "      <td>B</td>\n",
       "      <td>31</td>\n",
       "      <td>6119</td>\n",
       "      <td>4</td>\n",
       "      <td>NaN</td>\n",
       "      <td>1</td>\n",
       "      <td>2</td>\n",
       "      <td>B</td>\n",
       "    </tr>\n",
       "    <tr>\n",
       "      <th>4996</th>\n",
       "      <td>16138</td>\n",
       "      <td>38</td>\n",
       "      <td>3.0</td>\n",
       "      <td>93.698122</td>\n",
       "      <td>94.521465</td>\n",
       "      <td>10.0</td>\n",
       "      <td>21</td>\n",
       "      <td>27.0</td>\n",
       "      <td>2018</td>\n",
       "      <td>0.060753</td>\n",
       "      <td>B</td>\n",
       "      <td>B</td>\n",
       "      <td>15</td>\n",
       "      <td>2787</td>\n",
       "      <td>2</td>\n",
       "      <td>520.0</td>\n",
       "      <td>0</td>\n",
       "      <td>7</td>\n",
       "      <td>B</td>\n",
       "    </tr>\n",
       "    <tr>\n",
       "      <th>4997</th>\n",
       "      <td>3912</td>\n",
       "      <td>101</td>\n",
       "      <td>1.0</td>\n",
       "      <td>33.656723</td>\n",
       "      <td>19.003259</td>\n",
       "      <td>5.0</td>\n",
       "      <td>2</td>\n",
       "      <td>5.0</td>\n",
       "      <td>1966</td>\n",
       "      <td>0.038693</td>\n",
       "      <td>B</td>\n",
       "      <td>B</td>\n",
       "      <td>28</td>\n",
       "      <td>6533</td>\n",
       "      <td>1</td>\n",
       "      <td>1015.0</td>\n",
       "      <td>2</td>\n",
       "      <td>5</td>\n",
       "      <td>B</td>\n",
       "    </tr>\n",
       "    <tr>\n",
       "      <th>4998</th>\n",
       "      <td>5722</td>\n",
       "      <td>10</td>\n",
       "      <td>1.0</td>\n",
       "      <td>38.635155</td>\n",
       "      <td>20.976257</td>\n",
       "      <td>9.0</td>\n",
       "      <td>8</td>\n",
       "      <td>14.0</td>\n",
       "      <td>1970</td>\n",
       "      <td>0.089040</td>\n",
       "      <td>B</td>\n",
       "      <td>B</td>\n",
       "      <td>33</td>\n",
       "      <td>7976</td>\n",
       "      <td>5</td>\n",
       "      <td>NaN</td>\n",
       "      <td>0</td>\n",
       "      <td>11</td>\n",
       "      <td>B</td>\n",
       "    </tr>\n",
       "    <tr>\n",
       "      <th>4999</th>\n",
       "      <td>11004</td>\n",
       "      <td>21</td>\n",
       "      <td>2.0</td>\n",
       "      <td>67.122742</td>\n",
       "      <td>33.944344</td>\n",
       "      <td>13.0</td>\n",
       "      <td>9</td>\n",
       "      <td>17.0</td>\n",
       "      <td>2009</td>\n",
       "      <td>0.194489</td>\n",
       "      <td>B</td>\n",
       "      <td>B</td>\n",
       "      <td>47</td>\n",
       "      <td>8004</td>\n",
       "      <td>3</td>\n",
       "      <td>125.0</td>\n",
       "      <td>3</td>\n",
       "      <td>5</td>\n",
       "      <td>B</td>\n",
       "    </tr>\n",
       "  </tbody>\n",
       "</table>\n",
       "</div>"
      ],
      "text/plain": [
       "         Id  DistrictId  Rooms     Square  LifeSquare  KitchenSquare  Floor  \\\n",
       "4995  10379          29    2.0  43.177521   30.339945            5.0      6   \n",
       "4996  16138          38    3.0  93.698122   94.521465           10.0     21   \n",
       "4997   3912         101    1.0  33.656723   19.003259            5.0      2   \n",
       "4998   5722          10    1.0  38.635155   20.976257            9.0      8   \n",
       "4999  11004          21    2.0  67.122742   33.944344           13.0      9   \n",
       "\n",
       "      HouseFloor  HouseYear  Ecology_1 Ecology_2 Ecology_3  Social_1  \\\n",
       "4995         5.0       1962   0.069660         B         B        31   \n",
       "4996        27.0       2018   0.060753         B         B        15   \n",
       "4997         5.0       1966   0.038693         B         B        28   \n",
       "4998        14.0       1970   0.089040         B         B        33   \n",
       "4999        17.0       2009   0.194489         B         B        47   \n",
       "\n",
       "      Social_2  Social_3  Healthcare_1  Helthcare_2  Shops_1 Shops_2  \n",
       "4995      6119         4           NaN            1        2       B  \n",
       "4996      2787         2         520.0            0        7       B  \n",
       "4997      6533         1        1015.0            2        5       B  \n",
       "4998      7976         5           NaN            0       11       B  \n",
       "4999      8004         3         125.0            3        5       B  "
      ]
     },
     "execution_count": 7,
     "metadata": {},
     "output_type": "execute_result"
    }
   ],
   "source": [
    "test_df = pd.read_csv(TEST_DATASET_PATH)\n",
    "test_df.tail()"
   ]
  },
  {
   "cell_type": "code",
   "execution_count": 8,
   "id": "2f4419cb",
   "metadata": {},
   "outputs": [
    {
     "data": {
      "text/plain": [
       "((10000, 20), (5000, 19))"
      ]
     },
     "execution_count": 8,
     "metadata": {},
     "output_type": "execute_result"
    }
   ],
   "source": [
    "train_df.shape, test_df.shape"
   ]
  },
  {
   "cell_type": "markdown",
   "id": "f264824e",
   "metadata": {},
   "source": [
    "### Приведение типов"
   ]
  },
  {
   "cell_type": "code",
   "execution_count": 9,
   "id": "9dd5cd4c",
   "metadata": {},
   "outputs": [
    {
     "data": {
      "text/plain": [
       "Id                 int64\n",
       "DistrictId         int64\n",
       "Rooms            float64\n",
       "Square           float64\n",
       "LifeSquare       float64\n",
       "KitchenSquare    float64\n",
       "Floor              int64\n",
       "HouseFloor       float64\n",
       "HouseYear          int64\n",
       "Ecology_1        float64\n",
       "Ecology_2         object\n",
       "Ecology_3         object\n",
       "Social_1           int64\n",
       "Social_2           int64\n",
       "Social_3           int64\n",
       "Healthcare_1     float64\n",
       "Helthcare_2        int64\n",
       "Shops_1            int64\n",
       "Shops_2           object\n",
       "Price            float64\n",
       "dtype: object"
      ]
     },
     "execution_count": 9,
     "metadata": {},
     "output_type": "execute_result"
    }
   ],
   "source": [
    "train_df.dtypes"
   ]
  },
  {
   "cell_type": "code",
   "execution_count": 10,
   "id": "54ffa67d",
   "metadata": {},
   "outputs": [],
   "source": [
    "train_df['Id'] = train_df['Id'].astype(str)\n",
    "train_df['DistrictId'] = train_df['DistrictId'].astype(str)"
   ]
  },
  {
   "cell_type": "markdown",
   "id": "31c45113",
   "metadata": {},
   "source": [
    "## 1. EDA"
   ]
  },
  {
   "cell_type": "markdown",
   "id": "52dc5751",
   "metadata": {},
   "source": [
    "**Целевая переменная**"
   ]
  },
  {
   "cell_type": "code",
   "execution_count": 11,
   "id": "850c362e",
   "metadata": {},
   "outputs": [
    {
     "data": {
      "text/plain": [
       "count     10000.000000\n",
       "mean     214138.857399\n",
       "std       92872.293865\n",
       "min       59174.778028\n",
       "25%      153872.633942\n",
       "50%      192269.644879\n",
       "75%      249135.462171\n",
       "max      633233.466570\n",
       "Name: Price, dtype: float64"
      ]
     },
     "execution_count": 11,
     "metadata": {},
     "output_type": "execute_result"
    }
   ],
   "source": [
    "train_df['Price'].describe()"
   ]
  },
  {
   "cell_type": "code",
   "execution_count": 12,
   "id": "e2081c52",
   "metadata": {},
   "outputs": [
    {
     "data": {
      "text/plain": [
       "(1.3668775411257885, 2.249410134286403)"
      ]
     },
     "execution_count": 12,
     "metadata": {},
     "output_type": "execute_result"
    }
   ],
   "source": [
    "# правая ассиметрия и острая вершина\n",
    "train_df['Price'].skew(), train_df['Price'].kurt()"
   ]
  },
  {
   "cell_type": "code",
   "execution_count": 13,
   "id": "5671f03f",
   "metadata": {},
   "outputs": [
    {
     "data": {
      "image/png": "[encoded data removed]",
      "text/plain": [
       "<Figure size 1152x576 with 1 Axes>"
      ]
     },
     "metadata": {
      "needs_background": "light"
     },
     "output_type": "display_data"
    }
   ],
   "source": [
    "plt.figure(figsize = (16, 8))\n",
    "\n",
    "plt.hist(train_df['Price'], bins=20)\n",
    "plt.ylabel('Count')\n",
    "plt.xlabel('Price')\n",
    "plt.title('Target distribution')\n",
    "\n",
    "plt.show()\n"
   ]
  },
  {
   "cell_type": "code",
   "execution_count": 14,
   "id": "36597237",
   "metadata": {},
   "outputs": [
    {
     "data": {
      "image/png": "[encoded data removed]",
      "text/plain": [
       "<Figure size 432x288 with 1 Axes>"
      ]
     },
     "metadata": {
      "needs_background": "light"
     },
     "output_type": "display_data"
    },
    {
     "data": {
      "image/png": "[encoded data removed]",
      "text/plain": [
       "<Figure size 432x288 with 1 Axes>"
      ]
     },
     "metadata": {
      "needs_background": "light"
     },
     "output_type": "display_data"
    }
   ],
   "source": [
    "# просто для сравнения - логарифмическое преобразование убирает ассиметрию\n",
    "sns.distplot(np.log(train_df['Price']), bins=20, fit=stats.norm)\n",
    "fig = plt.figure()\n",
    "res = stats.probplot(np.log(train_df['Price']), plot=plt)"
   ]
  },
  {
   "cell_type": "markdown",
   "id": "92ed2c99",
   "metadata": {},
   "source": [
    "**Количественные переменные**"
   ]
  },
  {
   "cell_type": "code",
   "execution_count": 15,
   "id": "518ec750",
   "metadata": {
    "scrolled": false
   },
   "outputs": [
    {
     "data": {
      "text/html": [
       "<div>\n",
       "<style scoped>\n",
       "    .dataframe tbody tr th:only-of-type {\n",
       "        vertical-align: middle;\n",
       "    }\n",
       "\n",
       "    .dataframe tbody tr th {\n",
       "        vertical-align: top;\n",
       "    }\n",
       "\n",
       "    .dataframe thead th {\n",
       "        text-align: right;\n",
       "    }\n",
       "</style>\n",
       "<table border=\"1\" class=\"dataframe\">\n",
       "  <thead>\n",
       "    <tr style=\"text-align: right;\">\n",
       "      <th></th>\n",
       "      <th>Rooms</th>\n",
       "      <th>Square</th>\n",
       "      <th>LifeSquare</th>\n",
       "      <th>KitchenSquare</th>\n",
       "      <th>Floor</th>\n",
       "      <th>HouseFloor</th>\n",
       "      <th>HouseYear</th>\n",
       "      <th>Ecology_1</th>\n",
       "      <th>Social_1</th>\n",
       "      <th>Social_2</th>\n",
       "      <th>Social_3</th>\n",
       "      <th>Healthcare_1</th>\n",
       "      <th>Helthcare_2</th>\n",
       "      <th>Shops_1</th>\n",
       "      <th>Price</th>\n",
       "    </tr>\n",
       "  </thead>\n",
       "  <tbody>\n",
       "    <tr>\n",
       "      <th>count</th>\n",
       "      <td>10000.000000</td>\n",
       "      <td>10000.000000</td>\n",
       "      <td>7887.000000</td>\n",
       "      <td>10000.000000</td>\n",
       "      <td>10000.000000</td>\n",
       "      <td>10000.000000</td>\n",
       "      <td>1.000000e+04</td>\n",
       "      <td>10000.000000</td>\n",
       "      <td>10000.000000</td>\n",
       "      <td>10000.000000</td>\n",
       "      <td>10000.000000</td>\n",
       "      <td>5202.000000</td>\n",
       "      <td>10000.000000</td>\n",
       "      <td>10000.000000</td>\n",
       "      <td>10000.000000</td>\n",
       "    </tr>\n",
       "    <tr>\n",
       "      <th>mean</th>\n",
       "      <td>1.890500</td>\n",
       "      <td>56.315775</td>\n",
       "      <td>37.199645</td>\n",
       "      <td>6.273300</td>\n",
       "      <td>8.526700</td>\n",
       "      <td>12.609400</td>\n",
       "      <td>3.990166e+03</td>\n",
       "      <td>0.118858</td>\n",
       "      <td>24.687000</td>\n",
       "      <td>5352.157400</td>\n",
       "      <td>8.039200</td>\n",
       "      <td>1142.904460</td>\n",
       "      <td>1.319500</td>\n",
       "      <td>4.231300</td>\n",
       "      <td>214138.857399</td>\n",
       "    </tr>\n",
       "    <tr>\n",
       "      <th>std</th>\n",
       "      <td>0.839512</td>\n",
       "      <td>21.058732</td>\n",
       "      <td>86.241209</td>\n",
       "      <td>28.560917</td>\n",
       "      <td>5.241148</td>\n",
       "      <td>6.775974</td>\n",
       "      <td>2.005003e+05</td>\n",
       "      <td>0.119025</td>\n",
       "      <td>17.532614</td>\n",
       "      <td>4006.799803</td>\n",
       "      <td>23.831875</td>\n",
       "      <td>1021.517264</td>\n",
       "      <td>1.493601</td>\n",
       "      <td>4.806341</td>\n",
       "      <td>92872.293865</td>\n",
       "    </tr>\n",
       "    <tr>\n",
       "      <th>min</th>\n",
       "      <td>0.000000</td>\n",
       "      <td>1.136859</td>\n",
       "      <td>0.370619</td>\n",
       "      <td>0.000000</td>\n",
       "      <td>1.000000</td>\n",
       "      <td>0.000000</td>\n",
       "      <td>1.910000e+03</td>\n",
       "      <td>0.000000</td>\n",
       "      <td>0.000000</td>\n",
       "      <td>168.000000</td>\n",
       "      <td>0.000000</td>\n",
       "      <td>0.000000</td>\n",
       "      <td>0.000000</td>\n",
       "      <td>0.000000</td>\n",
       "      <td>59174.778028</td>\n",
       "    </tr>\n",
       "    <tr>\n",
       "      <th>25%</th>\n",
       "      <td>1.000000</td>\n",
       "      <td>41.774881</td>\n",
       "      <td>22.769832</td>\n",
       "      <td>1.000000</td>\n",
       "      <td>4.000000</td>\n",
       "      <td>9.000000</td>\n",
       "      <td>1.974000e+03</td>\n",
       "      <td>0.017647</td>\n",
       "      <td>6.000000</td>\n",
       "      <td>1564.000000</td>\n",
       "      <td>0.000000</td>\n",
       "      <td>350.000000</td>\n",
       "      <td>0.000000</td>\n",
       "      <td>1.000000</td>\n",
       "      <td>153872.633942</td>\n",
       "    </tr>\n",
       "    <tr>\n",
       "      <th>50%</th>\n",
       "      <td>2.000000</td>\n",
       "      <td>52.513310</td>\n",
       "      <td>32.781260</td>\n",
       "      <td>6.000000</td>\n",
       "      <td>7.000000</td>\n",
       "      <td>13.000000</td>\n",
       "      <td>1.977000e+03</td>\n",
       "      <td>0.075424</td>\n",
       "      <td>25.000000</td>\n",
       "      <td>5285.000000</td>\n",
       "      <td>2.000000</td>\n",
       "      <td>900.000000</td>\n",
       "      <td>1.000000</td>\n",
       "      <td>3.000000</td>\n",
       "      <td>192269.644879</td>\n",
       "    </tr>\n",
       "    <tr>\n",
       "      <th>75%</th>\n",
       "      <td>2.000000</td>\n",
       "      <td>65.900625</td>\n",
       "      <td>45.128803</td>\n",
       "      <td>9.000000</td>\n",
       "      <td>12.000000</td>\n",
       "      <td>17.000000</td>\n",
       "      <td>2.001000e+03</td>\n",
       "      <td>0.195781</td>\n",
       "      <td>36.000000</td>\n",
       "      <td>7227.000000</td>\n",
       "      <td>5.000000</td>\n",
       "      <td>1548.000000</td>\n",
       "      <td>2.000000</td>\n",
       "      <td>6.000000</td>\n",
       "      <td>249135.462171</td>\n",
       "    </tr>\n",
       "    <tr>\n",
       "      <th>max</th>\n",
       "      <td>19.000000</td>\n",
       "      <td>641.065193</td>\n",
       "      <td>7480.592129</td>\n",
       "      <td>2014.000000</td>\n",
       "      <td>42.000000</td>\n",
       "      <td>117.000000</td>\n",
       "      <td>2.005201e+07</td>\n",
       "      <td>0.521867</td>\n",
       "      <td>74.000000</td>\n",
       "      <td>19083.000000</td>\n",
       "      <td>141.000000</td>\n",
       "      <td>4849.000000</td>\n",
       "      <td>6.000000</td>\n",
       "      <td>23.000000</td>\n",
       "      <td>633233.466570</td>\n",
       "    </tr>\n",
       "  </tbody>\n",
       "</table>\n",
       "</div>"
      ],
      "text/plain": [
       "              Rooms        Square   LifeSquare  KitchenSquare         Floor  \\\n",
       "count  10000.000000  10000.000000  7887.000000   10000.000000  10000.000000   \n",
       "mean       1.890500     56.315775    37.199645       6.273300      8.526700   \n",
       "std        0.839512     21.058732    86.241209      28.560917      5.241148   \n",
       "min        0.000000      1.136859     0.370619       0.000000      1.000000   \n",
       "25%        1.000000     41.774881    22.769832       1.000000      4.000000   \n",
       "50%        2.000000     52.513310    32.781260       6.000000      7.000000   \n",
       "75%        2.000000     65.900625    45.128803       9.000000     12.000000   \n",
       "max       19.000000    641.065193  7480.592129    2014.000000     42.000000   \n",
       "\n",
       "         HouseFloor     HouseYear     Ecology_1      Social_1      Social_2  \\\n",
       "count  10000.000000  1.000000e+04  10000.000000  10000.000000  10000.000000   \n",
       "mean      12.609400  3.990166e+03      0.118858     24.687000   5352.157400   \n",
       "std        6.775974  2.005003e+05      0.119025     17.532614   4006.799803   \n",
       "min        0.000000  1.910000e+03      0.000000      0.000000    168.000000   \n",
       "25%        9.000000  1.974000e+03      0.017647      6.000000   1564.000000   \n",
       "50%       13.000000  1.977000e+03      0.075424     25.000000   5285.000000   \n",
       "75%       17.000000  2.001000e+03      0.195781     36.000000   7227.000000   \n",
       "max      117.000000  2.005201e+07      0.521867     74.000000  19083.000000   \n",
       "\n",
       "           Social_3  Healthcare_1   Helthcare_2       Shops_1          Price  \n",
       "count  10000.000000   5202.000000  10000.000000  10000.000000   10000.000000  \n",
       "mean       8.039200   1142.904460      1.319500      4.231300  214138.857399  \n",
       "std       23.831875   1021.517264      1.493601      4.806341   92872.293865  \n",
       "min        0.000000      0.000000      0.000000      0.000000   59174.778028  \n",
       "25%        0.000000    350.000000      0.000000      1.000000  153872.633942  \n",
       "50%        2.000000    900.000000      1.000000      3.000000  192269.644879  \n",
       "75%        5.000000   1548.000000      2.000000      6.000000  249135.462171  \n",
       "max      141.000000   4849.000000      6.000000     23.000000  633233.466570  "
      ]
     },
     "execution_count": 15,
     "metadata": {},
     "output_type": "execute_result"
    }
   ],
   "source": [
    "# и сразу пропуски и разный масштаб данных\n",
    "train_df.describe()"
   ]
  },
  {
   "cell_type": "markdown",
   "id": "3c53fe1d",
   "metadata": {},
   "source": [
    "**Номинативные переменные**"
   ]
  },
  {
   "cell_type": "code",
   "execution_count": 16,
   "id": "c966ebcb",
   "metadata": {},
   "outputs": [
    {
     "data": {
      "text/plain": [
       "['Id', 'DistrictId', 'Ecology_2', 'Ecology_3', 'Shops_2']"
      ]
     },
     "execution_count": 16,
     "metadata": {},
     "output_type": "execute_result"
    }
   ],
   "source": [
    "train_df.select_dtypes(include='object').columns.tolist()"
   ]
  },
  {
   "cell_type": "code",
   "execution_count": 17,
   "id": "303bf311",
   "metadata": {},
   "outputs": [
    {
     "data": {
      "text/plain": [
       "10000"
      ]
     },
     "execution_count": 17,
     "metadata": {},
     "output_type": "execute_result"
    }
   ],
   "source": [
    "# повторов нет, номера уникальны, индекс - полезной информации не несёт\n",
    "train_df['Id'].unique().size"
   ]
  },
  {
   "cell_type": "code",
   "execution_count": 18,
   "id": "0c55c44b",
   "metadata": {},
   "outputs": [
    {
     "data": {
      "text/plain": [
       "27     851\n",
       "1      652\n",
       "23     565\n",
       "6      511\n",
       "9      294\n",
       "      ... \n",
       "199      1\n",
       "117      1\n",
       "207      1\n",
       "209      1\n",
       "174      1\n",
       "Name: DistrictId, Length: 205, dtype: int64"
      ]
     },
     "execution_count": 18,
     "metadata": {},
     "output_type": "execute_result"
    }
   ],
   "source": [
    "# 205 уникальных значений\n",
    "train_df['DistrictId'].value_counts()"
   ]
  },
  {
   "cell_type": "code",
   "execution_count": 19,
   "id": "257fa34a",
   "metadata": {},
   "outputs": [
    {
     "data": {
      "text/plain": [
       "B    9903\n",
       "A      97\n",
       "Name: Ecology_2, dtype: int64"
      ]
     },
     "execution_count": 19,
     "metadata": {},
     "output_type": "execute_result"
    }
   ],
   "source": [
    "train_df['Ecology_2'].value_counts()"
   ]
  },
  {
   "cell_type": "code",
   "execution_count": 20,
   "id": "7a34d862",
   "metadata": {},
   "outputs": [
    {
     "data": {
      "text/plain": [
       "B    9725\n",
       "A     275\n",
       "Name: Ecology_3, dtype: int64"
      ]
     },
     "execution_count": 20,
     "metadata": {},
     "output_type": "execute_result"
    }
   ],
   "source": [
    "train_df['Ecology_3'].value_counts()"
   ]
  },
  {
   "cell_type": "code",
   "execution_count": 21,
   "id": "acd987f7",
   "metadata": {},
   "outputs": [
    {
     "data": {
      "text/plain": [
       "B    9175\n",
       "A     825\n",
       "Name: Shops_2, dtype: int64"
      ]
     },
     "execution_count": 21,
     "metadata": {},
     "output_type": "execute_result"
    }
   ],
   "source": [
    "# уже немного больше баланса\n",
    "train_df['Shops_2'].value_counts()"
   ]
  },
  {
   "cell_type": "markdown",
   "id": "3d153e9f",
   "metadata": {},
   "source": [
    "Категории в Ecology_2 и Ecology_3 сильно не сбалансированы, вряд ли окажутся значимыми признаками"
   ]
  },
  {
   "cell_type": "markdown",
   "id": "e2d696c4",
   "metadata": {},
   "source": [
    "### 2. Обработка выбросов и пропусков\n",
    "\n",
    "        - здесь уже только отобранные варианты заполнения/обрезки/новых признаков"
   ]
  },
  {
   "cell_type": "code",
   "execution_count": 22,
   "id": "ef713cff",
   "metadata": {},
   "outputs": [
    {
     "data": {
      "text/plain": [
       "<AxesSubplot:xlabel='Rooms'>"
      ]
     },
     "execution_count": 22,
     "metadata": {},
     "output_type": "execute_result"
    },
    {
     "data": {
      "image/png": "[encoded data removed]",
      "text/plain": [
       "<Figure size 432x288 with 1 Axes>"
      ]
     },
     "metadata": {
      "needs_background": "light"
     },
     "output_type": "display_data"
    }
   ],
   "source": [
    "sns.boxplot(train_df['Rooms'], whis=1.5)"
   ]
  },
  {
   "cell_type": "code",
   "execution_count": 23,
   "id": "05f14ff4",
   "metadata": {},
   "outputs": [
    {
     "data": {
      "text/plain": [
       "2.0     3880\n",
       "1.0     3705\n",
       "3.0     2235\n",
       "4.0      150\n",
       "5.0       18\n",
       "0.0        8\n",
       "10.0       2\n",
       "19.0       1\n",
       "6.0        1\n",
       "Name: Rooms, dtype: int64"
      ]
     },
     "execution_count": 23,
     "metadata": {},
     "output_type": "execute_result"
    }
   ],
   "source": [
    "train_df['Rooms'].value_counts()"
   ]
  },
  {
   "cell_type": "markdown",
   "id": "2e9871cc",
   "metadata": {},
   "source": [
    "Явные пики частот на 1, 2 и 3 (при этом далее интересные трёхглавые распределения для Square и LifeSquare), значения 0 и начиная примерно с 10 - неправдоподобны"
   ]
  },
  {
   "cell_type": "code",
   "execution_count": 24,
   "id": "a2d90133",
   "metadata": {},
   "outputs": [],
   "source": [
    "train_df.loc[train_df['Rooms'] == 0, 'Rooms'] = 1\n",
    "train_df.loc[train_df['Rooms'] >= 6, 'Rooms'] = train_df['Rooms'].median()"
   ]
  },
  {
   "cell_type": "code",
   "execution_count": 25,
   "id": "1c999e6e",
   "metadata": {},
   "outputs": [
    {
     "data": {
      "text/plain": [
       "2.0    3884\n",
       "1.0    3713\n",
       "3.0    2235\n",
       "4.0     150\n",
       "5.0      18\n",
       "Name: Rooms, dtype: int64"
      ]
     },
     "execution_count": 25,
     "metadata": {},
     "output_type": "execute_result"
    }
   ],
   "source": [
    "# те, в приницпе, можно и сильнее обрезать\n",
    "train_df['Rooms'].value_counts()"
   ]
  },
  {
   "cell_type": "markdown",
   "id": "22e0c7a6",
   "metadata": {},
   "source": [
    "- **Square**"
   ]
  },
  {
   "cell_type": "code",
   "execution_count": 26,
   "id": "72b3e386",
   "metadata": {},
   "outputs": [
    {
     "data": {
      "text/plain": [
       "count    10000.000000\n",
       "mean        56.315775\n",
       "std         21.058732\n",
       "min          1.136859\n",
       "25%         41.774881\n",
       "50%         52.513310\n",
       "75%         65.900625\n",
       "max        641.065193\n",
       "Name: Square, dtype: float64"
      ]
     },
     "execution_count": 26,
     "metadata": {},
     "output_type": "execute_result"
    }
   ],
   "source": [
    "# min и max явно нуждаются в обрезке\n",
    "train_df['Square'].describe()"
   ]
  },
  {
   "cell_type": "code",
   "execution_count": 27,
   "id": "7955c910",
   "metadata": {},
   "outputs": [
    {
     "data": {
      "text/plain": [
       "<AxesSubplot:xlabel='Square'>"
      ]
     },
     "execution_count": 27,
     "metadata": {},
     "output_type": "execute_result"
    },
    {
     "data": {
      "image/png": "[encoded data removed]",
      "text/plain": [
       "<Figure size 432x288 with 1 Axes>"
      ]
     },
     "metadata": {
      "needs_background": "light"
     },
     "output_type": "display_data"
    }
   ],
   "source": [
    "sns.boxplot(train_df['Square'], whis=1.5)"
   ]
  },
  {
   "cell_type": "code",
   "execution_count": 28,
   "id": "6898e6ce",
   "metadata": {},
   "outputs": [
    {
     "data": {
      "text/plain": [
       "(100.90624548226137, 32.10518291149681)"
      ]
     },
     "execution_count": 28,
     "metadata": {},
     "output_type": "execute_result"
    }
   ],
   "source": [
    "train_df['Square'].quantile(.975), train_df['Square'].quantile(.025)"
   ]
  },
  {
   "cell_type": "code",
   "execution_count": 29,
   "id": "0fc0ba33",
   "metadata": {},
   "outputs": [],
   "source": [
    "# произвольно выбранные цифры но с ориентировкой на квантили\n",
    "train_df.loc[(train_df['Square'] < 30) | (train_df['Square'] > 150), 'Square'] = train_df['Square'].median()"
   ]
  },
  {
   "cell_type": "code",
   "execution_count": 30,
   "id": "d3c29715",
   "metadata": {},
   "outputs": [
    {
     "data": {
      "text/plain": [
       "<AxesSubplot:xlabel='Square', ylabel='Density'>"
      ]
     },
     "execution_count": 30,
     "metadata": {},
     "output_type": "execute_result"
    },
    {
     "data": {
      "image/png": "[encoded data removed]",
      "text/plain": [
       "<Figure size 432x288 with 1 Axes>"
      ]
     },
     "metadata": {
      "needs_background": "light"
     },
     "output_type": "display_data"
    }
   ],
   "source": [
    "sns.distplot(train_df['Square'], bins=20, fit=stats.norm)"
   ]
  },
  {
   "cell_type": "markdown",
   "id": "76d634f7",
   "metadata": {},
   "source": [
    "- **LifeSquare**\n",
    "\n",
    "        - признак заметно коррелирует (что легко объяснимо) со Square (как и KitchenSquare), вместе со Square заметно ухудшает показатели r2 для модели"
   ]
  },
  {
   "cell_type": "code",
   "execution_count": 31,
   "id": "3faaa99d",
   "metadata": {},
   "outputs": [
    {
     "data": {
      "text/plain": [
       "2113"
      ]
     },
     "execution_count": 31,
     "metadata": {},
     "output_type": "execute_result"
    }
   ],
   "source": [
    "# пропусков чуть больше 1/5\n",
    "train_df['LifeSquare'].isna().sum()"
   ]
  },
  {
   "cell_type": "code",
   "execution_count": 32,
   "id": "9daa2e2d",
   "metadata": {},
   "outputs": [
    {
     "data": {
      "text/plain": [
       "count    7887.000000\n",
       "mean       37.199645\n",
       "std        86.241209\n",
       "min         0.370619\n",
       "25%        22.769832\n",
       "50%        32.781260\n",
       "75%        45.128803\n",
       "max      7480.592129\n",
       "Name: LifeSquare, dtype: float64"
      ]
     },
     "execution_count": 32,
     "metadata": {},
     "output_type": "execute_result"
    }
   ],
   "source": [
    "# max и min также неправдоподобны\n",
    "train_df['LifeSquare'].describe()"
   ]
  },
  {
   "cell_type": "code",
   "execution_count": 33,
   "id": "961cddb5",
   "metadata": {},
   "outputs": [
    {
     "data": {
      "text/plain": [
       "(5.914129735023812, 80.74810407514713)"
      ]
     },
     "execution_count": 33,
     "metadata": {},
     "output_type": "execute_result"
    }
   ],
   "source": [
    "train_df['LifeSquare'].quantile(.025), train_df['LifeSquare'].quantile(.975)"
   ]
  },
  {
   "cell_type": "code",
   "execution_count": 34,
   "id": "4f05bfbe",
   "metadata": {},
   "outputs": [
    {
     "data": {
      "text/plain": [
       "476"
      ]
     },
     "execution_count": 34,
     "metadata": {},
     "output_type": "execute_result"
    }
   ],
   "source": [
    "# жилая площадь превышает общую\n",
    "train_df.loc[train_df['LifeSquare'] >= train_df['Square'], 'LifeSquare'].size"
   ]
  },
  {
   "cell_type": "markdown",
   "id": "a576d42b",
   "metadata": {},
   "source": [
    "здесь просто вариант обработки, при котором признак показал наибольшую значимость в RandomForestRegressor - по сравнению со всеми признаками (а было их около 50), до предварительного отбора, те в окончательную модель не пойдёт"
   ]
  },
  {
   "cell_type": "code",
   "execution_count": 35,
   "id": "47226692",
   "metadata": {},
   "outputs": [
    {
     "data": {
      "text/plain": [
       "0.6629151854710947"
      ]
     },
     "execution_count": 35,
     "metadata": {},
     "output_type": "execute_result"
    }
   ],
   "source": [
    "ls_per = (train_df['LifeSquare'] / train_df['Square']).sum() / train_df['LifeSquare'].count()\n",
    "ls_per"
   ]
  },
  {
   "cell_type": "code",
   "execution_count": 36,
   "id": "b157f5b2",
   "metadata": {},
   "outputs": [],
   "source": [
    "condition = train_df['LifeSquare'].isna() | (train_df['LifeSquare']  >= train_df['Square'])"
   ]
  },
  {
   "cell_type": "code",
   "execution_count": 37,
   "id": "4e4f8405",
   "metadata": {},
   "outputs": [],
   "source": [
    "train_df.loc[condition, 'LifeSquare'] = train_df.loc[condition, 'Square'] * ls_per"
   ]
  },
  {
   "cell_type": "markdown",
   "id": "12e7721f",
   "metadata": {},
   "source": [
    "проверяем"
   ]
  },
  {
   "cell_type": "code",
   "execution_count": 38,
   "id": "45efed59",
   "metadata": {},
   "outputs": [
    {
     "data": {
      "text/plain": [
       "0"
      ]
     },
     "execution_count": 38,
     "metadata": {},
     "output_type": "execute_result"
    }
   ],
   "source": [
    "train_df['LifeSquare'].isna().sum()"
   ]
  },
  {
   "cell_type": "code",
   "execution_count": 39,
   "id": "3c8a4df3",
   "metadata": {},
   "outputs": [
    {
     "data": {
      "text/plain": [
       "0"
      ]
     },
     "execution_count": 39,
     "metadata": {},
     "output_type": "execute_result"
    }
   ],
   "source": [
    "train_df.loc[train_df['LifeSquare'] >= train_df['Square'], 'LifeSquare'].size"
   ]
  },
  {
   "cell_type": "markdown",
   "id": "d0d1e43d",
   "metadata": {},
   "source": [
    "обрезаем выбросы"
   ]
  },
  {
   "cell_type": "code",
   "execution_count": 40,
   "id": "e2c3de59",
   "metadata": {},
   "outputs": [],
   "source": [
    "train_df.loc[(train_df['LifeSquare'] < train_df['LifeSquare'].quantile(.025)) | (train_df['LifeSquare'] > 100), 'LifeSquare'] = train_df['LifeSquare'].median()"
   ]
  },
  {
   "cell_type": "code",
   "execution_count": 41,
   "id": "16c0eebc",
   "metadata": {
    "scrolled": false
   },
   "outputs": [
    {
     "data": {
      "text/plain": [
       "<AxesSubplot:xlabel='LifeSquare', ylabel='Density'>"
      ]
     },
     "execution_count": 41,
     "metadata": {},
     "output_type": "execute_result"
    },
    {
     "data": {
      "image/png": "[encoded data removed]",
      "text/plain": [
       "<Figure size 432x288 with 1 Axes>"
      ]
     },
     "metadata": {
      "needs_background": "light"
     },
     "output_type": "display_data"
    }
   ],
   "source": [
    "# вот оно то самое, трёхглавое\n",
    "sns.distplot(train_df['LifeSquare'], bins=20, fit=stats.norm)"
   ]
  },
  {
   "cell_type": "markdown",
   "id": "b963ec98",
   "metadata": {},
   "source": [
    "Было бы интересно разбить данные на 4 группы по комнатам (1-2-3-45) и посмотреть отдельно"
   ]
  },
  {
   "cell_type": "markdown",
   "id": "493e1b8b",
   "metadata": {},
   "source": [
    "- **KitchenSquare**\n",
    "\n",
    "        - без пропусков, в основную модель не попадает из-за сильной связи со Square"
   ]
  },
  {
   "cell_type": "code",
   "execution_count": 42,
   "id": "ea1f426b",
   "metadata": {},
   "outputs": [
    {
     "data": {
      "text/plain": [
       "1.0       2460\n",
       "8.0       1306\n",
       "5.0       1169\n",
       "10.0      1075\n",
       "6.0       1038\n",
       "9.0        843\n",
       "0.0        697\n",
       "7.0        609\n",
       "12.0       249\n",
       "11.0       233\n",
       "13.0        67\n",
       "14.0        51\n",
       "4.0         39\n",
       "15.0        31\n",
       "3.0         22\n",
       "16.0        16\n",
       "20.0        14\n",
       "17.0        12\n",
       "19.0        11\n",
       "18.0         6\n",
       "2.0          4\n",
       "22.0         3\n",
       "30.0         2\n",
       "43.0         2\n",
       "41.0         2\n",
       "112.0        2\n",
       "25.0         2\n",
       "51.0         2\n",
       "37.0         2\n",
       "58.0         2\n",
       "32.0         2\n",
       "21.0         1\n",
       "73.0         1\n",
       "75.0         1\n",
       "36.0         1\n",
       "27.0         1\n",
       "63.0         1\n",
       "1970.0       1\n",
       "54.0         1\n",
       "53.0         1\n",
       "60.0         1\n",
       "26.0         1\n",
       "66.0         1\n",
       "39.0         1\n",
       "29.0         1\n",
       "78.0         1\n",
       "31.0         1\n",
       "84.0         1\n",
       "48.0         1\n",
       "96.0         1\n",
       "42.0         1\n",
       "40.0         1\n",
       "23.0         1\n",
       "72.0         1\n",
       "35.0         1\n",
       "62.0         1\n",
       "123.0        1\n",
       "2014.0       1\n",
       "Name: KitchenSquare, dtype: int64"
      ]
     },
     "execution_count": 42,
     "metadata": {},
     "output_type": "execute_result"
    }
   ],
   "source": [
    "train_df['KitchenSquare'].value_counts()"
   ]
  },
  {
   "cell_type": "code",
   "execution_count": 43,
   "id": "24648045",
   "metadata": {},
   "outputs": [
    {
     "data": {
      "text/plain": [
       "(13.0, 0.0)"
      ]
     },
     "execution_count": 43,
     "metadata": {},
     "output_type": "execute_result"
    }
   ],
   "source": [
    "train_df['KitchenSquare'].quantile(.975), train_df['KitchenSquare'].quantile(.025)"
   ]
  },
  {
   "cell_type": "code",
   "execution_count": 44,
   "id": "18988aed",
   "metadata": {},
   "outputs": [],
   "source": [
    "# хотя столько значений сразу в середину распределения - так себе идея\n",
    "train_df.loc[(train_df['KitchenSquare'] > 20) | (train_df['KitchenSquare'] < 3), 'KitchenSquare'] = train_df['KitchenSquare'].median()"
   ]
  },
  {
   "cell_type": "code",
   "execution_count": 45,
   "id": "b7aea601",
   "metadata": {},
   "outputs": [
    {
     "data": {
      "text/plain": [
       "741"
      ]
     },
     "execution_count": 45,
     "metadata": {},
     "output_type": "execute_result"
    }
   ],
   "source": [
    "# KitchenSquare больше чем Square - LifeSquare\n",
    "train_df.loc[train_df['KitchenSquare'] > train_df['Square'] - train_df['LifeSquare'], 'KitchenSquare'].size"
   ]
  },
  {
   "cell_type": "markdown",
   "id": "e28f3778",
   "metadata": {},
   "source": [
    "Поскольку не ясно, каким данным стоит доверять (Square всё же чть предпочтительней), представляется, что не стоит слишком сильно подгонять показатели Square, LifeSquare и KitchenSquare друг к другу"
   ]
  },
  {
   "cell_type": "code",
   "execution_count": 46,
   "id": "a0d4b5c4",
   "metadata": {},
   "outputs": [],
   "source": [
    "# поэтому просто\n",
    "train_df.loc[train_df['KitchenSquare'] > train_df['Square']] = train_df['KitchenSquare'].median()"
   ]
  },
  {
   "cell_type": "markdown",
   "id": "9268328d",
   "metadata": {},
   "source": [
    "- **Floor**, **HouseFloor**\n",
    "\n",
    "        - пропущенных нет, HouseFloor задаёт границы для возможных Floor"
   ]
  },
  {
   "cell_type": "code",
   "execution_count": 47,
   "id": "af941c8a",
   "metadata": {},
   "outputs": [
    {
     "data": {
      "text/plain": [
       "array([ 1,  2,  3,  4,  5,  6,  7,  8,  9, 10, 11, 12, 13, 14, 15, 16, 17,\n",
       "       18, 19, 20, 21, 22, 23, 24, 25, 26, 27, 28, 31, 32, 33, 37, 42],\n",
       "      dtype=int64)"
      ]
     },
     "execution_count": 47,
     "metadata": {},
     "output_type": "execute_result"
    }
   ],
   "source": [
    "train_df['Floor'].sort_values().unique()"
   ]
  },
  {
   "cell_type": "code",
   "execution_count": 48,
   "id": "bf874cc0",
   "metadata": {},
   "outputs": [
    {
     "data": {
      "text/plain": [
       "array([  0.,   1.,   2.,   3.,   4.,   5.,   6.,   7.,   8.,   9.,  10.,\n",
       "        11.,  12.,  13.,  14.,  15.,  16.,  17.,  18.,  19.,  20.,  21.,\n",
       "        22.,  23.,  24.,  25.,  26.,  27.,  28.,  29.,  30.,  31.,  32.,\n",
       "        36.,  37.,  38.,  39.,  40.,  44.,  45.,  47.,  48.,  99., 117.])"
      ]
     },
     "execution_count": 48,
     "metadata": {},
     "output_type": "execute_result"
    }
   ],
   "source": [
    "train_df['HouseFloor'].sort_values().unique()"
   ]
  },
  {
   "cell_type": "code",
   "execution_count": 49,
   "id": "86cbcb0c",
   "metadata": {},
   "outputs": [],
   "source": [
    "train_df.loc[train_df['HouseFloor'] == 0, 'HouseFloor'] = train_df['HouseFloor'].median()"
   ]
  },
  {
   "cell_type": "markdown",
   "id": "b3393822",
   "metadata": {},
   "source": [
    "Замена недостоверной этажности ('Floor' > 'HouseFloor') на случайный этаж в рамках высоты дома - из методички. Интересно, что замена на средний этаж конкретного дома дала худший результат"
   ]
  },
  {
   "cell_type": "code",
   "execution_count": 50,
   "id": "8ebb480c",
   "metadata": {},
   "outputs": [],
   "source": [
    "train_df.loc[train_df['Floor'] > train_df['HouseFloor'], 'Floor'] = \\\n",
    "        train_df.loc[train_df['Floor'] > train_df['HouseFloor'], 'HouseFloor']\\\n",
    "        .apply(lambda x: random.randint(1, x))"
   ]
  },
  {
   "cell_type": "code",
   "execution_count": 51,
   "id": "a2cfe848",
   "metadata": {},
   "outputs": [
    {
     "data": {
      "text/plain": [
       "0"
      ]
     },
     "execution_count": 51,
     "metadata": {},
     "output_type": "execute_result"
    }
   ],
   "source": [
    "(train_df['Floor'] > train_df['HouseFloor']).sum()"
   ]
  },
  {
   "cell_type": "markdown",
   "id": "1ba4d9a8",
   "metadata": {},
   "source": [
    "- **HouseYear**"
   ]
  },
  {
   "cell_type": "code",
   "execution_count": 52,
   "id": "c11f7168",
   "metadata": {},
   "outputs": [
    {
     "data": {
      "text/plain": [
       "array([    1910,     1912,     1914,     1916,     1917,     1918,\n",
       "           1919,     1928,     1929,     1930,     1931,     1932,\n",
       "           1933,     1934,     1935,     1936,     1937,     1938,\n",
       "           1939,     1940,     1941,     1942,     1947,     1948,\n",
       "           1950,     1951,     1952,     1953,     1954,     1955,\n",
       "           1956,     1957,     1958,     1959,     1960,     1961,\n",
       "           1962,     1963,     1964,     1965,     1966,     1967,\n",
       "           1968,     1969,     1970,     1971,     1972,     1973,\n",
       "           1974,     1975,     1976,     1977,     1978,     1979,\n",
       "           1980,     1981,     1982,     1983,     1984,     1985,\n",
       "           1986,     1987,     1988,     1989,     1990,     1991,\n",
       "           1992,     1993,     1994,     1995,     1996,     1997,\n",
       "           1998,     1999,     2000,     2001,     2002,     2003,\n",
       "           2004,     2005,     2006,     2007,     2008,     2009,\n",
       "           2010,     2011,     2012,     2013,     2014,     2015,\n",
       "           2016,     2017,     2018,     2019,     2020,     4968,\n",
       "       20052011], dtype=int64)"
      ]
     },
     "execution_count": 52,
     "metadata": {},
     "output_type": "execute_result"
    }
   ],
   "source": [
    "train_df['HouseYear'].sort_values().unique()"
   ]
  },
  {
   "cell_type": "code",
   "execution_count": 53,
   "id": "2d93a3d7",
   "metadata": {},
   "outputs": [],
   "source": [
    "train_df.loc[train_df['HouseYear'] > 2020, 'HouseYear'] = 2020"
   ]
  },
  {
   "cell_type": "markdown",
   "id": "576a613f",
   "metadata": {},
   "source": [
    "- **Ecology_1**\n",
    "\n",
    "числа с большой точностью позволяют предположить, что они автоматическит откуда-то получены, те - малая вероятность недостоверности. Возможно, хороший признак"
   ]
  },
  {
   "cell_type": "code",
   "execution_count": 54,
   "id": "e7b43865",
   "metadata": {},
   "outputs": [
    {
     "data": {
      "text/plain": [
       "array([0.00000000e+00, 1.80000000e-09, 6.99893000e-05, 7.81528000e-05,\n",
       "       1.69676000e-04, 6.99119000e-04, 9.91363000e-04, 9.95363000e-04,\n",
       "       2.21166500e-03, 4.94935800e-03, 5.76745100e-03, 6.07615200e-03,\n",
       "       7.12231700e-03, 7.65851500e-03, 7.72028200e-03, 1.13198100e-02,\n",
       "       1.16541270e-02, 1.23388860e-02, 1.25216340e-02, 1.40579200e-02,\n",
       "       1.40729610e-02, 1.43339470e-02, 1.44231140e-02, 1.45807160e-02,\n",
       "       1.50168920e-02, 1.76470530e-02, 1.95087960e-02, 2.07413260e-02,\n",
       "       2.56091570e-02, 3.34937080e-02, 3.43314970e-02, 3.46560820e-02,\n",
       "       3.51452670e-02, 3.61222920e-02, 3.62700890e-02, 3.71778180e-02,\n",
       "       3.73164520e-02, 3.86929870e-02, 4.02427640e-02, 4.11163540e-02,\n",
       "       4.11246340e-02, 4.13654460e-02, 4.20315870e-02, 4.23072710e-02,\n",
       "       4.96372570e-02, 4.98633870e-02, 5.02720140e-02, 5.07555690e-02,\n",
       "       5.09000580e-02, 5.18154350e-02, 5.19420620e-02, 6.07530490e-02,\n",
       "       6.96603440e-02, 6.97533610e-02, 7.21575810e-02, 7.54236800e-02,\n",
       "       7.57787550e-02, 8.19434630e-02, 8.68852650e-02, 8.76190900e-02,\n",
       "       8.90397190e-02, 9.07991030e-02, 9.22906420e-02, 9.34425640e-02,\n",
       "       1.00455735e-01, 1.01872465e-01, 1.11627393e-01, 1.18537385e-01,\n",
       "       1.22090347e-01, 1.22190486e-01, 1.27375905e-01, 1.27811589e-01,\n",
       "       1.30122770e-01, 1.30617806e-01, 1.33215333e-01, 1.35649789e-01,\n",
       "       1.36244425e-01, 1.36330300e-01, 1.48903891e-01, 1.49666373e-01,\n",
       "       1.50817539e-01, 1.51346216e-01, 1.58249043e-01, 1.61531741e-01,\n",
       "       1.61975568e-01, 1.69091090e-01, 1.74739084e-01, 1.75054867e-01,\n",
       "       1.78916796e-01, 1.88783766e-01, 1.94489265e-01, 1.95781053e-01,\n",
       "       1.97367951e-01, 2.00146802e-01, 2.10473241e-01, 2.11401214e-01,\n",
       "       2.12515361e-01, 2.18439740e-01, 2.19006007e-01, 2.25824954e-01,\n",
       "       2.32205084e-01, 2.36108458e-01, 2.38617130e-01, 2.43204519e-01,\n",
       "       2.46031548e-01, 2.46623602e-01, 2.65088676e-01, 2.82797669e-01,\n",
       "       2.98204575e-01, 3.00322518e-01, 3.06977489e-01, 3.07466659e-01,\n",
       "       3.09479124e-01, 3.10199130e-01, 3.13924552e-01, 3.19809354e-01,\n",
       "       3.27018035e-01, 3.33891544e-01, 3.41071945e-01, 3.71148999e-01,\n",
       "       3.86771659e-01, 3.94094211e-01, 4.07276235e-01, 4.28825818e-01,\n",
       "       4.37885240e-01, 4.58174486e-01, 4.60556389e-01, 4.86245621e-01,\n",
       "       5.21867054e-01])"
      ]
     },
     "execution_count": 54,
     "metadata": {},
     "output_type": "execute_result"
    }
   ],
   "source": [
    "train_df['Ecology_1'].sort_values().unique()"
   ]
  },
  {
   "cell_type": "markdown",
   "id": "21f965d7",
   "metadata": {},
   "source": [
    "- **Social_1**, **Social_2**"
   ]
  },
  {
   "cell_type": "code",
   "execution_count": 55,
   "id": "95bc2eb7",
   "metadata": {},
   "outputs": [
    {
     "data": {
      "text/plain": [
       "array([ 0,  1,  2,  3,  4,  5,  6,  7,  8,  9, 10, 11, 12, 13, 14, 15, 16,\n",
       "       17, 18, 19, 20, 21, 22, 23, 24, 25, 26, 27, 28, 29, 30, 31, 32, 33,\n",
       "       34, 35, 36, 37, 38, 39, 41, 42, 43, 46, 47, 49, 50, 52, 53, 66, 74],\n",
       "      dtype=int64)"
      ]
     },
     "execution_count": 55,
     "metadata": {},
     "output_type": "execute_result"
    }
   ],
   "source": [
    "train_df['Social_1'].sort_values().unique()"
   ]
  },
  {
   "cell_type": "code",
   "execution_count": 56,
   "id": "fa01ef1e",
   "metadata": {},
   "outputs": [
    {
     "data": {
      "text/plain": [
       "array([  168,   186,   264,   290,   388,   469,   475,   507,   528,\n",
       "         568,   629,   662,   760,   915,  1135,  1227,  1318,  1423,\n",
       "        1437,  1497,  1564,  1660,  1768,  1892,  1952,  1986,  2270,\n",
       "        2277,  2370,  2398,  2423,  2514,  2733,  2738,  2748,  2787,\n",
       "        2810,  2940,  3079,  3097,  3151,  3293,  3369,  3374,  3379,\n",
       "        3433,  3478,  3594,  3681,  3684,  3746,  3806,  3856,  3889,\n",
       "        3893,  3975,  4017,  4048,  4231,  4346,  4378,  4386,  4439,\n",
       "        4472,  4583,  4625,  4635,  4724,  4756,  4788,  4789,  4798,\n",
       "        4860,  5011,  5027,  5048,  5067,  5148,  5212,  5261,  5285,\n",
       "        5288,  5469,  5487,  5562,  5569,  5613,  5648,  5664,  5731,\n",
       "        5735,  5776,  5889,  5992,  6119,  6137,  6141,  6149,  6207,\n",
       "        6398,  6533,  6558,  6564,  6566,  6714,  6746,  6748,  6783,\n",
       "        6856,  7010,  7065,  7077,  7227,  7287,  7425,  7538,  7614,\n",
       "        7651,  7687,  7715,  7759,  7960,  7976,  8004,  8429,  8647,\n",
       "        8667,  9292,  9515, 10055, 10309, 10311, 10418, 10573, 10621,\n",
       "       11217, 11319, 11395, 12238, 13670, 14892, 19083], dtype=int64)"
      ]
     },
     "execution_count": 56,
     "metadata": {},
     "output_type": "execute_result"
    }
   ],
   "source": [
    "train_df['Social_2'].sort_values().unique()"
   ]
  },
  {
   "cell_type": "markdown",
   "id": "50b4b950",
   "metadata": {},
   "source": [
    "вероятно, что один, что другой признак отражают какие-то условно \"хорошие\" показатели"
   ]
  },
  {
   "cell_type": "code",
   "execution_count": 57,
   "id": "bf944019",
   "metadata": {},
   "outputs": [
    {
     "data": {
      "text/plain": [
       "(0.23922559918745298, 0.26328586827670325)"
      ]
     },
     "execution_count": 57,
     "metadata": {},
     "output_type": "execute_result"
    }
   ],
   "source": [
    "train_df['Social_2'].corr(train_df['Price']), train_df['Social_1'].corr(train_df['Price'])"
   ]
  },
  {
   "cell_type": "markdown",
   "id": "d58fa98c",
   "metadata": {},
   "source": [
    "Но их распределения подозрительно схожи между собой. Далее - два признака будут объединены в один."
   ]
  },
  {
   "cell_type": "code",
   "execution_count": 58,
   "id": "649d4dfe",
   "metadata": {
    "scrolled": false
   },
   "outputs": [
    {
     "data": {
      "image/png": "[encoded data removed]",
      "text/plain": [
       "<Figure size 864x432 with 2 Axes>"
      ]
     },
     "metadata": {
      "needs_background": "light"
     },
     "output_type": "display_data"
    }
   ],
   "source": [
    "fig, ax = plt.subplots(nrows=1, ncols=2)\n",
    "fig.set_figwidth(12)\n",
    "fig.set_figheight(6)\n",
    "\n",
    "ax[0].hist(train_df['Social_1'], bins=20)\n",
    "ax[0].set_xlabel('Social_1')\n",
    "\n",
    "ax[1].hist(train_df['Social_2'], bins=20)\n",
    "ax[1].set_xlabel('Social_2')\n",
    "\n",
    "plt.show()"
   ]
  },
  {
   "cell_type": "code",
   "execution_count": 59,
   "id": "7146977b",
   "metadata": {},
   "outputs": [
    {
     "data": {
      "text/plain": [
       "0.9559884611427014"
      ]
     },
     "execution_count": 59,
     "metadata": {},
     "output_type": "execute_result"
    }
   ],
   "source": [
    "train_df['Social_1'].corr(train_df['Social_2'])"
   ]
  },
  {
   "cell_type": "markdown",
   "id": "b62ac8c6",
   "metadata": {},
   "source": [
    "- **Social_3**"
   ]
  },
  {
   "cell_type": "code",
   "execution_count": 60,
   "id": "3856c4f6",
   "metadata": {},
   "outputs": [
    {
     "data": {
      "text/plain": [
       "array([  0,   1,   2,   3,   4,   5,   6,   7,   8,   9,  10,  11,  14,\n",
       "        16,  19,  20,  23,  24,  27,  37,  39,  45,  48,  56,  59,  73,\n",
       "        84,  87,  93, 141], dtype=int64)"
      ]
     },
     "execution_count": 60,
     "metadata": {},
     "output_type": "execute_result"
    }
   ],
   "source": [
    "train_df['Social_3'].sort_values().unique()"
   ]
  },
  {
   "cell_type": "markdown",
   "id": "97907a2b",
   "metadata": {},
   "source": [
    "- **Healthcare_1**"
   ]
  },
  {
   "cell_type": "code",
   "execution_count": 61,
   "id": "c2931570",
   "metadata": {},
   "outputs": [
    {
     "data": {
      "text/plain": [
       "array([   0.,   30.,   32.,   35.,   46.,   75.,   80.,  100.,  125.,\n",
       "        145.,  165.,  176.,  192.,  200.,  229.,  240.,  262.,  320.,\n",
       "        325.,  350.,  370.,  520.,  540.,  562.,  620.,  628.,  645.,\n",
       "        705.,  730.,  750.,  770.,  800.,  810.,  830.,  900.,  920.,\n",
       "        990., 1015., 1020., 1036., 1046., 1084., 1130., 1145., 1183.,\n",
       "       1308., 1322., 1340., 1406., 1430., 1450., 1547., 1548., 1575.,\n",
       "       1786., 1815., 1894., 1937., 1940., 1970., 1994., 2078., 2300.,\n",
       "       2301., 2500., 2620., 2643., 2672., 2715., 2729., 2857., 2890.,\n",
       "       3300., 3855., 4087., 4129., 4508., 4702., 4849.,   nan])"
      ]
     },
     "execution_count": 61,
     "metadata": {},
     "output_type": "execute_result"
    }
   ],
   "source": [
    "train_df['Healthcare_1'].sort_values().unique()"
   ]
  },
  {
   "cell_type": "code",
   "execution_count": 62,
   "id": "7b8c95ca",
   "metadata": {},
   "outputs": [
    {
     "data": {
      "text/plain": [
       "4798"
      ]
     },
     "execution_count": 62,
     "metadata": {},
     "output_type": "execute_result"
    }
   ],
   "source": [
    "# почти половина пропусков\n",
    "train_df['Healthcare_1'].isnull().sum()"
   ]
  },
  {
   "cell_type": "markdown",
   "id": "bd239ceb",
   "metadata": {},
   "source": [
    "Пара разных вариантов обработки (на всякий случай) результатов не дала."
   ]
  },
  {
   "cell_type": "markdown",
   "id": "27357d79",
   "metadata": {},
   "source": [
    "- **Helthcare_2**\n",
    "\n",
    "подозрительный признак: небольшое число уникальных - может быть как рангом так и (а вдруг) категорией\n",
    "\n",
    "в итоге, ни он сам, ни признаки, сконструированные на его основе в итоговую модель не попали"
   ]
  },
  {
   "cell_type": "code",
   "execution_count": 63,
   "id": "7aac176e",
   "metadata": {},
   "outputs": [
    {
     "data": {
      "text/plain": [
       "array([0, 1, 3, 2, 5, 4, 6], dtype=int64)"
      ]
     },
     "execution_count": 63,
     "metadata": {},
     "output_type": "execute_result"
    }
   ],
   "source": [
    "train_df['Helthcare_2'].unique()"
   ]
  },
  {
   "cell_type": "code",
   "execution_count": 64,
   "id": "6e77140e",
   "metadata": {},
   "outputs": [
    {
     "data": {
      "text/plain": [
       "0    4214\n",
       "1    2183\n",
       "3    1670\n",
       "2    1158\n",
       "5     388\n",
       "4     288\n",
       "6      99\n",
       "Name: Helthcare_2, dtype: int64"
      ]
     },
     "execution_count": 64,
     "metadata": {},
     "output_type": "execute_result"
    }
   ],
   "source": [
    "train_df['Helthcare_2'].value_counts()"
   ]
  },
  {
   "cell_type": "markdown",
   "id": "f5cb6484",
   "metadata": {},
   "source": [
    "- **Shops_1**"
   ]
  },
  {
   "cell_type": "code",
   "execution_count": 65,
   "id": "7602061f",
   "metadata": {},
   "outputs": [
    {
     "data": {
      "text/plain": [
       "array([ 0,  1,  2,  3,  4,  5,  6,  7,  8,  9, 10, 11, 15, 16, 19, 23],\n",
       "      dtype=int64)"
      ]
     },
     "execution_count": 65,
     "metadata": {},
     "output_type": "execute_result"
    }
   ],
   "source": [
    "train_df['Shops_1'].sort_values().unique()"
   ]
  },
  {
   "cell_type": "markdown",
   "id": "4d932e81",
   "metadata": {},
   "source": [
    "И снова очень много нулевых значений"
   ]
  },
  {
   "cell_type": "code",
   "execution_count": 66,
   "id": "16a63637",
   "metadata": {},
   "outputs": [
    {
     "data": {
      "image/png": "[encoded data removed]",
      "text/plain": [
       "<Figure size 432x288 with 1 Axes>"
      ]
     },
     "metadata": {
      "needs_background": "light"
     },
     "output_type": "display_data"
    }
   ],
   "source": [
    "plt.hist(train_df['Shops_1'], bins=20);"
   ]
  },
  {
   "cell_type": "markdown",
   "id": "39d56141",
   "metadata": {},
   "source": [
    "#### Категориальные признаки\n",
    "\n",
    "- **Ecology_2**, **Ecology_3**, **Shops_2**"
   ]
  },
  {
   "cell_type": "code",
   "execution_count": 67,
   "id": "5f8b7caa",
   "metadata": {},
   "outputs": [],
   "source": [
    "binary_to_numbers = {'A': 0, 'B': 1}\n",
    "\n",
    "train_df['Ecology_2'] = train_df['Ecology_2'].replace(binary_to_numbers)\n",
    "train_df['Ecology_3'] = train_df['Ecology_3'].replace(binary_to_numbers)\n",
    "train_df['Shops_2'] = train_df['Shops_2'].replace(binary_to_numbers)"
   ]
  },
  {
   "cell_type": "markdown",
   "id": "fd46a82d",
   "metadata": {},
   "source": [
    "#### Предобработка"
   ]
  },
  {
   "cell_type": "code",
   "execution_count": 68,
   "id": "d52322f6",
   "metadata": {},
   "outputs": [],
   "source": [
    "class DataPreprocessing:\n",
    "    \"\"\"Подготовка исходных данных\"\"\"\n",
    "\n",
    "    def __init__(self):\n",
    "        \"\"\"Параметры класса\"\"\"\n",
    "        self.medians = None\n",
    "        # убрать, если не пригодится!\n",
    "        self.square_quantile = None\n",
    "        self.life_square_quantile = None\n",
    "        self.life_square_per = None\n",
    "        self.binary_to_numbers = None\n",
    "        \n",
    "    def fit(self, X):\n",
    "        \"\"\"Сохранение статистик\"\"\"       \n",
    "        self.medians = X.median()\n",
    "        # убрать, если не пригодится!\n",
    "        self.square_quantile = X['Square'].quantile(.025), X['Square'].quantile(.975)\n",
    "        self.life_square_quantile = X['LifeSquare'].quantile(.025), X['LifeSquare'].quantile(.975)\n",
    "        self.life_square_per = (X['LifeSquare'] / X['Square']).sum() / X['LifeSquare'].count()\n",
    "        self.binary_to_numbers = {'A': 0, 'B': 1}\n",
    "    \n",
    "    def transform(self, X):\n",
    "        \"\"\"Трансформация данных\"\"\"\n",
    "\n",
    "        # Rooms\n",
    "        X.loc[X['Rooms'] == 0, 'Rooms'] = 1\n",
    "        X.loc[X['Rooms'] >= 6, 'Rooms'] = self.medians['Rooms']\n",
    "\n",
    "        # Square\n",
    "        X.loc[(X['Square'] < 30) | (X['Square'] > 150), 'Square'] = self.medians['Square']\n",
    "        \n",
    "        # LifeSquare\n",
    "        condition = (X['LifeSquare'].isna() | (X['LifeSquare'] >= X['Square'])) & (~X['Square'].isna())\n",
    "        X.loc[condition, 'LifeSquare'] = X.loc[condition, 'Square'] * self.life_square_per\n",
    "        \n",
    "        X.loc[(X['LifeSquare'] < self.life_square_quantile[0]) | \\\n",
    "              (X['LifeSquare'] > 100), 'LifeSquare'] = self.medians['LifeSquare']\n",
    "           \n",
    "        # KitchenSquare\n",
    "        X.loc[(X['KitchenSquare'] > 20) | (X['KitchenSquare'] < 3), 'KitchenSquare'] = self.medians['KitchenSquare']\n",
    "        \n",
    "        # HouseFloor, Floor\n",
    "        X.loc[X['HouseFloor'] == 0, 'HouseFloor'] = self.medians['HouseFloor']\n",
    "    \n",
    "        X.loc[X['Floor'] > X['HouseFloor'], 'Floor'] = \\\n",
    "            X.loc[X['Floor'] > X['HouseFloor'], 'HouseFloor'].apply(lambda x: random.randint(1, x))\n",
    "        \n",
    "        # HouseYear\n",
    "        current_year = datetime.now().year\n",
    "        \n",
    "        X.loc[X['HouseYear'] > current_year, 'HouseYear'] = current_year\n",
    "        \n",
    "        # Healthcare_1\n",
    "        if 'Healthcare_1' in X.columns:\n",
    "            X.drop('Healthcare_1', axis=1, inplace=True)\n",
    "        \n",
    "        # Ecology_2, Ecology_3, Shops_2\n",
    "        X['Ecology_2'] = X['Ecology_2'].map(self.binary_to_numbers)\n",
    "        X['Ecology_3'] = X['Ecology_3'].map(self.binary_to_numbers)\n",
    "        X['Shops_2'] = X['Shops_2'].map(self.binary_to_numbers)\n",
    "        \n",
    "        X.fillna(self.medians, inplace=True)\n",
    "        \n",
    "        return X"
   ]
  },
  {
   "cell_type": "markdown",
   "id": "34972db0",
   "metadata": {},
   "source": [
    "### 3. Построение новых признаков\n",
    "\n",
    "только те, что были отобраны для финальной модели"
   ]
  },
  {
   "cell_type": "markdown",
   "id": "9d38e4ab",
   "metadata": {},
   "source": [
    "- **DistrictSize**\n",
    "\n",
    "Целиком перетащено из методички, иные варианты обработки признака оказались менее значимыми для модели"
   ]
  },
  {
   "cell_type": "code",
   "execution_count": 69,
   "id": "a43b15e8",
   "metadata": {},
   "outputs": [
    {
     "data": {
      "text/html": [
       "<div>\n",
       "<style scoped>\n",
       "    .dataframe tbody tr th:only-of-type {\n",
       "        vertical-align: middle;\n",
       "    }\n",
       "\n",
       "    .dataframe tbody tr th {\n",
       "        vertical-align: top;\n",
       "    }\n",
       "\n",
       "    .dataframe thead th {\n",
       "        text-align: right;\n",
       "    }\n",
       "</style>\n",
       "<table border=\"1\" class=\"dataframe\">\n",
       "  <thead>\n",
       "    <tr style=\"text-align: right;\">\n",
       "      <th></th>\n",
       "      <th>Id</th>\n",
       "      <th>DistrictId</th>\n",
       "      <th>Rooms</th>\n",
       "      <th>Square</th>\n",
       "      <th>LifeSquare</th>\n",
       "      <th>KitchenSquare</th>\n",
       "      <th>Floor</th>\n",
       "      <th>HouseFloor</th>\n",
       "      <th>HouseYear</th>\n",
       "      <th>Ecology_1</th>\n",
       "      <th>...</th>\n",
       "      <th>Ecology_3</th>\n",
       "      <th>Social_1</th>\n",
       "      <th>Social_2</th>\n",
       "      <th>Social_3</th>\n",
       "      <th>Healthcare_1</th>\n",
       "      <th>Helthcare_2</th>\n",
       "      <th>Shops_1</th>\n",
       "      <th>Shops_2</th>\n",
       "      <th>Price</th>\n",
       "      <th>DistrictSize</th>\n",
       "    </tr>\n",
       "  </thead>\n",
       "  <tbody>\n",
       "    <tr>\n",
       "      <th>0</th>\n",
       "      <td>11809</td>\n",
       "      <td>27</td>\n",
       "      <td>3.0</td>\n",
       "      <td>115.027311</td>\n",
       "      <td>76.253351</td>\n",
       "      <td>10.0</td>\n",
       "      <td>4</td>\n",
       "      <td>10.0</td>\n",
       "      <td>2014</td>\n",
       "      <td>0.075424</td>\n",
       "      <td>...</td>\n",
       "      <td>1</td>\n",
       "      <td>11</td>\n",
       "      <td>3097</td>\n",
       "      <td>0</td>\n",
       "      <td>NaN</td>\n",
       "      <td>0</td>\n",
       "      <td>0</td>\n",
       "      <td>1</td>\n",
       "      <td>305018.871089</td>\n",
       "      <td>851</td>\n",
       "    </tr>\n",
       "    <tr>\n",
       "      <th>1</th>\n",
       "      <td>3013</td>\n",
       "      <td>22</td>\n",
       "      <td>1.0</td>\n",
       "      <td>39.832524</td>\n",
       "      <td>23.169223</td>\n",
       "      <td>8.0</td>\n",
       "      <td>7</td>\n",
       "      <td>8.0</td>\n",
       "      <td>1966</td>\n",
       "      <td>0.118537</td>\n",
       "      <td>...</td>\n",
       "      <td>1</td>\n",
       "      <td>30</td>\n",
       "      <td>6207</td>\n",
       "      <td>1</td>\n",
       "      <td>1183.0</td>\n",
       "      <td>1</td>\n",
       "      <td>0</td>\n",
       "      <td>1</td>\n",
       "      <td>177734.553407</td>\n",
       "      <td>78</td>\n",
       "    </tr>\n",
       "    <tr>\n",
       "      <th>2</th>\n",
       "      <td>8215</td>\n",
       "      <td>1</td>\n",
       "      <td>3.0</td>\n",
       "      <td>78.342215</td>\n",
       "      <td>47.671972</td>\n",
       "      <td>10.0</td>\n",
       "      <td>2</td>\n",
       "      <td>17.0</td>\n",
       "      <td>1988</td>\n",
       "      <td>0.025609</td>\n",
       "      <td>...</td>\n",
       "      <td>1</td>\n",
       "      <td>33</td>\n",
       "      <td>5261</td>\n",
       "      <td>0</td>\n",
       "      <td>240.0</td>\n",
       "      <td>3</td>\n",
       "      <td>1</td>\n",
       "      <td>1</td>\n",
       "      <td>282078.720850</td>\n",
       "      <td>652</td>\n",
       "    </tr>\n",
       "    <tr>\n",
       "      <th>3</th>\n",
       "      <td>2352</td>\n",
       "      <td>1</td>\n",
       "      <td>1.0</td>\n",
       "      <td>40.409907</td>\n",
       "      <td>26.788341</td>\n",
       "      <td>6.0</td>\n",
       "      <td>10</td>\n",
       "      <td>22.0</td>\n",
       "      <td>1977</td>\n",
       "      <td>0.007122</td>\n",
       "      <td>...</td>\n",
       "      <td>1</td>\n",
       "      <td>1</td>\n",
       "      <td>264</td>\n",
       "      <td>0</td>\n",
       "      <td>NaN</td>\n",
       "      <td>0</td>\n",
       "      <td>1</td>\n",
       "      <td>1</td>\n",
       "      <td>168106.007630</td>\n",
       "      <td>652</td>\n",
       "    </tr>\n",
       "    <tr>\n",
       "      <th>4</th>\n",
       "      <td>13866</td>\n",
       "      <td>94</td>\n",
       "      <td>2.0</td>\n",
       "      <td>64.285067</td>\n",
       "      <td>38.562517</td>\n",
       "      <td>9.0</td>\n",
       "      <td>16</td>\n",
       "      <td>16.0</td>\n",
       "      <td>1972</td>\n",
       "      <td>0.282798</td>\n",
       "      <td>...</td>\n",
       "      <td>1</td>\n",
       "      <td>33</td>\n",
       "      <td>8667</td>\n",
       "      <td>2</td>\n",
       "      <td>NaN</td>\n",
       "      <td>0</td>\n",
       "      <td>6</td>\n",
       "      <td>1</td>\n",
       "      <td>343995.102962</td>\n",
       "      <td>89</td>\n",
       "    </tr>\n",
       "  </tbody>\n",
       "</table>\n",
       "<p>5 rows × 21 columns</p>\n",
       "</div>"
      ],
      "text/plain": [
       "      Id DistrictId  Rooms      Square  LifeSquare  KitchenSquare  Floor  \\\n",
       "0  11809         27    3.0  115.027311   76.253351           10.0      4   \n",
       "1   3013         22    1.0   39.832524   23.169223            8.0      7   \n",
       "2   8215          1    3.0   78.342215   47.671972           10.0      2   \n",
       "3   2352          1    1.0   40.409907   26.788341            6.0     10   \n",
       "4  13866         94    2.0   64.285067   38.562517            9.0     16   \n",
       "\n",
       "   HouseFloor  HouseYear  Ecology_1  ...  Ecology_3  Social_1  Social_2  \\\n",
       "0        10.0       2014   0.075424  ...          1        11      3097   \n",
       "1         8.0       1966   0.118537  ...          1        30      6207   \n",
       "2        17.0       1988   0.025609  ...          1        33      5261   \n",
       "3        22.0       1977   0.007122  ...          1         1       264   \n",
       "4        16.0       1972   0.282798  ...          1        33      8667   \n",
       "\n",
       "   Social_3  Healthcare_1  Helthcare_2  Shops_1  Shops_2          Price  \\\n",
       "0         0           NaN            0        0        1  305018.871089   \n",
       "1         1        1183.0            1        0        1  177734.553407   \n",
       "2         0         240.0            3        1        1  282078.720850   \n",
       "3         0           NaN            0        1        1  168106.007630   \n",
       "4         2           NaN            0        6        1  343995.102962   \n",
       "\n",
       "   DistrictSize  \n",
       "0           851  \n",
       "1            78  \n",
       "2           652  \n",
       "3           652  \n",
       "4            89  \n",
       "\n",
       "[5 rows x 21 columns]"
      ]
     },
     "execution_count": 69,
     "metadata": {},
     "output_type": "execute_result"
    }
   ],
   "source": [
    "district_size = train_df['DistrictId'].value_counts().reset_index()\\\n",
    "                    .rename(columns={'index':'DistrictId', 'DistrictId':'DistrictSize'})\n",
    "\n",
    "train_df = train_df.merge(district_size, on='DistrictId', how='left')\n",
    "train_df.head()"
   ]
  },
  {
   "cell_type": "code",
   "execution_count": 70,
   "id": "18209a86",
   "metadata": {},
   "outputs": [
    {
     "data": {
      "text/plain": [
       "(205, 90)"
      ]
     },
     "execution_count": 70,
     "metadata": {},
     "output_type": "execute_result"
    }
   ],
   "source": [
    "# интересно сравнить количество уникальных значений\n",
    "train_df['DistrictId'].unique().size, train_df['DistrictSize'].unique().size"
   ]
  },
  {
   "cell_type": "markdown",
   "id": "27011eac",
   "metadata": {},
   "source": [
    "- dummy для Floor: **Floor_first, Floor_between, Floor_last**\n",
    "\n",
    "небольшую значимость показали сперва Floor_last, потом Floor_first"
   ]
  },
  {
   "cell_type": "code",
   "execution_count": 71,
   "id": "dba8d381",
   "metadata": {},
   "outputs": [],
   "source": [
    "train_df['Floor_dummy'] = 0\n",
    "# первый этаж\n",
    "train_df.loc[train_df['Floor'] == 1, 'Floor_dummy'] = 1\n",
    "# последний этаж\n",
    "train_df.loc[(train_df['Floor'] != 1) & (train_df['Floor'] == train_df['HouseFloor']), 'Floor_dummy'] = 2"
   ]
  },
  {
   "cell_type": "code",
   "execution_count": 72,
   "id": "2084ac6a",
   "metadata": {},
   "outputs": [],
   "source": [
    "train_df = pd.concat([train_df, pd.get_dummies(train_df['Floor_dummy'])\\\n",
    "                      .rename(columns={0: 'Floor_betwin', 1: 'Floor_first', 2: 'Floor_last'})], axis=1)"
   ]
  },
  {
   "cell_type": "code",
   "execution_count": 73,
   "id": "fc93ee94",
   "metadata": {},
   "outputs": [
    {
     "data": {
      "text/html": [
       "<div>\n",
       "<style scoped>\n",
       "    .dataframe tbody tr th:only-of-type {\n",
       "        vertical-align: middle;\n",
       "    }\n",
       "\n",
       "    .dataframe tbody tr th {\n",
       "        vertical-align: top;\n",
       "    }\n",
       "\n",
       "    .dataframe thead th {\n",
       "        text-align: right;\n",
       "    }\n",
       "</style>\n",
       "<table border=\"1\" class=\"dataframe\">\n",
       "  <thead>\n",
       "    <tr style=\"text-align: right;\">\n",
       "      <th></th>\n",
       "      <th>Id</th>\n",
       "      <th>DistrictId</th>\n",
       "      <th>Rooms</th>\n",
       "      <th>Square</th>\n",
       "      <th>LifeSquare</th>\n",
       "      <th>KitchenSquare</th>\n",
       "      <th>Floor</th>\n",
       "      <th>HouseFloor</th>\n",
       "      <th>HouseYear</th>\n",
       "      <th>Ecology_1</th>\n",
       "      <th>...</th>\n",
       "      <th>Healthcare_1</th>\n",
       "      <th>Helthcare_2</th>\n",
       "      <th>Shops_1</th>\n",
       "      <th>Shops_2</th>\n",
       "      <th>Price</th>\n",
       "      <th>DistrictSize</th>\n",
       "      <th>Floor_dummy</th>\n",
       "      <th>Floor_betwin</th>\n",
       "      <th>Floor_first</th>\n",
       "      <th>Floor_last</th>\n",
       "    </tr>\n",
       "  </thead>\n",
       "  <tbody>\n",
       "    <tr>\n",
       "      <th>0</th>\n",
       "      <td>11809</td>\n",
       "      <td>27</td>\n",
       "      <td>3.0</td>\n",
       "      <td>115.027311</td>\n",
       "      <td>76.253351</td>\n",
       "      <td>10.0</td>\n",
       "      <td>4</td>\n",
       "      <td>10.0</td>\n",
       "      <td>2014</td>\n",
       "      <td>0.075424</td>\n",
       "      <td>...</td>\n",
       "      <td>NaN</td>\n",
       "      <td>0</td>\n",
       "      <td>0</td>\n",
       "      <td>1</td>\n",
       "      <td>305018.871089</td>\n",
       "      <td>851</td>\n",
       "      <td>0</td>\n",
       "      <td>1</td>\n",
       "      <td>0</td>\n",
       "      <td>0</td>\n",
       "    </tr>\n",
       "    <tr>\n",
       "      <th>1</th>\n",
       "      <td>3013</td>\n",
       "      <td>22</td>\n",
       "      <td>1.0</td>\n",
       "      <td>39.832524</td>\n",
       "      <td>23.169223</td>\n",
       "      <td>8.0</td>\n",
       "      <td>7</td>\n",
       "      <td>8.0</td>\n",
       "      <td>1966</td>\n",
       "      <td>0.118537</td>\n",
       "      <td>...</td>\n",
       "      <td>1183.0</td>\n",
       "      <td>1</td>\n",
       "      <td>0</td>\n",
       "      <td>1</td>\n",
       "      <td>177734.553407</td>\n",
       "      <td>78</td>\n",
       "      <td>0</td>\n",
       "      <td>1</td>\n",
       "      <td>0</td>\n",
       "      <td>0</td>\n",
       "    </tr>\n",
       "    <tr>\n",
       "      <th>2</th>\n",
       "      <td>8215</td>\n",
       "      <td>1</td>\n",
       "      <td>3.0</td>\n",
       "      <td>78.342215</td>\n",
       "      <td>47.671972</td>\n",
       "      <td>10.0</td>\n",
       "      <td>2</td>\n",
       "      <td>17.0</td>\n",
       "      <td>1988</td>\n",
       "      <td>0.025609</td>\n",
       "      <td>...</td>\n",
       "      <td>240.0</td>\n",
       "      <td>3</td>\n",
       "      <td>1</td>\n",
       "      <td>1</td>\n",
       "      <td>282078.720850</td>\n",
       "      <td>652</td>\n",
       "      <td>0</td>\n",
       "      <td>1</td>\n",
       "      <td>0</td>\n",
       "      <td>0</td>\n",
       "    </tr>\n",
       "    <tr>\n",
       "      <th>3</th>\n",
       "      <td>2352</td>\n",
       "      <td>1</td>\n",
       "      <td>1.0</td>\n",
       "      <td>40.409907</td>\n",
       "      <td>26.788341</td>\n",
       "      <td>6.0</td>\n",
       "      <td>10</td>\n",
       "      <td>22.0</td>\n",
       "      <td>1977</td>\n",
       "      <td>0.007122</td>\n",
       "      <td>...</td>\n",
       "      <td>NaN</td>\n",
       "      <td>0</td>\n",
       "      <td>1</td>\n",
       "      <td>1</td>\n",
       "      <td>168106.007630</td>\n",
       "      <td>652</td>\n",
       "      <td>0</td>\n",
       "      <td>1</td>\n",
       "      <td>0</td>\n",
       "      <td>0</td>\n",
       "    </tr>\n",
       "    <tr>\n",
       "      <th>4</th>\n",
       "      <td>13866</td>\n",
       "      <td>94</td>\n",
       "      <td>2.0</td>\n",
       "      <td>64.285067</td>\n",
       "      <td>38.562517</td>\n",
       "      <td>9.0</td>\n",
       "      <td>16</td>\n",
       "      <td>16.0</td>\n",
       "      <td>1972</td>\n",
       "      <td>0.282798</td>\n",
       "      <td>...</td>\n",
       "      <td>NaN</td>\n",
       "      <td>0</td>\n",
       "      <td>6</td>\n",
       "      <td>1</td>\n",
       "      <td>343995.102962</td>\n",
       "      <td>89</td>\n",
       "      <td>2</td>\n",
       "      <td>0</td>\n",
       "      <td>0</td>\n",
       "      <td>1</td>\n",
       "    </tr>\n",
       "  </tbody>\n",
       "</table>\n",
       "<p>5 rows × 25 columns</p>\n",
       "</div>"
      ],
      "text/plain": [
       "      Id DistrictId  Rooms      Square  LifeSquare  KitchenSquare  Floor  \\\n",
       "0  11809         27    3.0  115.027311   76.253351           10.0      4   \n",
       "1   3013         22    1.0   39.832524   23.169223            8.0      7   \n",
       "2   8215          1    3.0   78.342215   47.671972           10.0      2   \n",
       "3   2352          1    1.0   40.409907   26.788341            6.0     10   \n",
       "4  13866         94    2.0   64.285067   38.562517            9.0     16   \n",
       "\n",
       "   HouseFloor  HouseYear  Ecology_1  ...  Healthcare_1  Helthcare_2  Shops_1  \\\n",
       "0        10.0       2014   0.075424  ...           NaN            0        0   \n",
       "1         8.0       1966   0.118537  ...        1183.0            1        0   \n",
       "2        17.0       1988   0.025609  ...         240.0            3        1   \n",
       "3        22.0       1977   0.007122  ...           NaN            0        1   \n",
       "4        16.0       1972   0.282798  ...           NaN            0        6   \n",
       "\n",
       "   Shops_2          Price  DistrictSize  Floor_dummy  Floor_betwin  \\\n",
       "0        1  305018.871089           851            0             1   \n",
       "1        1  177734.553407            78            0             1   \n",
       "2        1  282078.720850           652            0             1   \n",
       "3        1  168106.007630           652            0             1   \n",
       "4        1  343995.102962            89            2             0   \n",
       "\n",
       "   Floor_first  Floor_last  \n",
       "0            0           0  \n",
       "1            0           0  \n",
       "2            0           0  \n",
       "3            0           0  \n",
       "4            0           1  \n",
       "\n",
       "[5 rows x 25 columns]"
      ]
     },
     "execution_count": 73,
     "metadata": {},
     "output_type": "execute_result"
    }
   ],
   "source": [
    "train_df.head()"
   ]
  },
  {
   "cell_type": "markdown",
   "id": "ffb1b79c",
   "metadata": {},
   "source": [
    "- **HouseYear_bin**\n",
    "\n",
    "признак первоначально создавался как основа для других, но сам показал неплохую значимость (в отличие от тех самых других)\n",
    "\n",
    "\n",
    "бины основаны на этапах современного градостроительного развития города Москвы:"
   ]
  },
  {
   "cell_type": "code",
   "execution_count": 74,
   "id": "8f7b5220",
   "metadata": {},
   "outputs": [],
   "source": [
    "train_df['HouseYear_bins'] = pd.cut(train_df['HouseYear'], bins=[1900, 1930, 1940, 1945, 1955, 1970, 1980, 2000, 2010, 2020], labels=False)\n",
    "train_df.loc[train_df['HouseYear_bins'].isna(), 'HouseYear_bins'] = -1"
   ]
  },
  {
   "cell_type": "markdown",
   "id": "8848b20c",
   "metadata": {},
   "source": [
    "**Social_1_by_2**\n",
    "\n",
    "вместо сильно коррелирующих Social_1 и Social_2\n",
    "\n",
    "именно такая комбинация оказалась наиболее значимой"
   ]
  },
  {
   "cell_type": "code",
   "execution_count": 75,
   "id": "90836702",
   "metadata": {},
   "outputs": [],
   "source": [
    "train_df['Social_1_by_2'] = 0\n",
    "train_df.loc[~(train_df['Social_2'] == 0) , 'Social_1_by_2'] = train_df.loc[~(train_df['Social_2'] == 0), 'Social_1'] / train_df.loc[~(train_df['Social_2'] == 0), 'Social_2']"
   ]
  },
  {
   "cell_type": "markdown",
   "id": "56d34888",
   "metadata": {},
   "source": [
    "- **MedPriceByYear**\n",
    "\n",
    "средняя цена за год - по сгруппированным годам \n",
    "\n",
    "не даёт сильного переобучения"
   ]
  },
  {
   "cell_type": "code",
   "execution_count": 76,
   "id": "a4ee0a11",
   "metadata": {},
   "outputs": [],
   "source": [
    "med_price_by_year = train_df.groupby(['HouseYear_bins'], as_index=False).agg({'Price':'median'}).\\\n",
    "                                            rename(columns={'Price':'MedPriceByYear'})\n",
    "train_df = train_df.merge(med_price_by_year, on='HouseYear_bins', how='left')"
   ]
  },
  {
   "cell_type": "markdown",
   "id": "02323c49",
   "metadata": {},
   "source": [
    "#### Генерация новых признаков"
   ]
  },
  {
   "cell_type": "code",
   "execution_count": 77,
   "id": "a6c39b8f",
   "metadata": {},
   "outputs": [],
   "source": [
    "class FeatureGenetator():\n",
    "    \"\"\"Генерация новых фич\"\"\"\n",
    "    \n",
    "    def __init__(self):\n",
    "        self.DistrictId_counts = None\n",
    "        self.med_price_by_year = None\n",
    "        self.district_size = None\n",
    "        self.med_price_by_year = None\n",
    "    \n",
    "    def fit(self, X, y=None):\n",
    "        \n",
    "        X = X.copy()\n",
    " \n",
    "        # DistrictID\n",
    "        self.district_size = X['DistrictId'].value_counts().reset_index() \\\n",
    "                               .rename(columns={'index':'DistrictId', 'DistrictId':'DistrictSize'})\n",
    "                \n",
    "        # Target encoding\n",
    "        # HouseYear\n",
    "        df = X.copy()\n",
    "        \n",
    "        if y is not None:\n",
    "            df['Price'] = y.values\n",
    "            df = self.year_to_cat(df)\n",
    "            self.med_price_by_year = df.groupby(['HouseYear_bins'], as_index=False).agg({'Price':'median'}).\\\n",
    "                                            rename(columns={'Price':'MedPriceByYear'})\n",
    "            \n",
    "            self.med_price_by_year_median = self.med_price_by_year['MedPriceByYear'].median()\n",
    "        \n",
    "        \n",
    "    def transform(self, X):\n",
    "        \n",
    "        # DistrictId, Districtsize\n",
    "        X = X.merge(self.district_size, on='DistrictId', how='left')\n",
    "        \n",
    "        X['new_district'] = 0\n",
    "        X.loc[X['DistrictSize'].isna(), 'new_district'] = 1\n",
    "        \n",
    "        X['DistrictSize'].fillna(5, inplace=True)\n",
    "        \n",
    "        # HouseYear_bins\n",
    "        X = self.year_to_cat(X)   \n",
    "        \n",
    "        # Target encoding\n",
    "        if self.med_price_by_year is not None:\n",
    "            X = X.merge(self.med_price_by_year, on=['HouseYear_bins'], how='left')\n",
    "            X['MedPriceByYear'].fillna(self.med_price_by_year_median, inplace=True)\n",
    "\n",
    "        # Social_1_by_2    \n",
    "        X['Social_1_by_2'] = 0\n",
    "        X.loc[~(train_df['Social_2'] == 0) , 'Social_1_by_2'] = \\\n",
    "            X.loc[~(train_df['Social_2'] == 0), 'Social_1'] / train_df.loc[~(train_df['Social_2'] == 0), 'Social_2']\n",
    "        \n",
    "        # Floor_dummy\n",
    "        X['Floor_dummy'] = 0\n",
    "        # первый этаж\n",
    "        X.loc[X['Floor'] == 1, 'Floor_dummy'] = 1\n",
    "        # последний этаж\n",
    "        X.loc[(X['Floor'] != 1) & (X['Floor'] == X['HouseFloor']), 'Floor_dummy'] = 2\n",
    "        X = pd.concat([X, pd.get_dummies(X['Floor_dummy'])\\\n",
    "                      .rename(columns={0: 'Floor_betwin', 1: 'Floor_first', 2: 'Floor_last'})], axis=1)        \n",
    "        \n",
    "        return X\n",
    "    \n",
    "    def year_to_cat(self, X):\n",
    "        bins = [1900, 1930, 1940, 1945, 1955, 1970, 1980, 2000, 2010, 2020]\n",
    "        X['HouseYear_bins'] = pd.cut(X['HouseYear'], bins=bins, labels=False)\n",
    "\n",
    "        X['HouseYear_bins'].fillna(-1, inplace=True)\n",
    "        \n",
    "        return X"
   ]
  },
  {
   "cell_type": "markdown",
   "id": "c17440e6",
   "metadata": {},
   "source": [
    "### 4. Отбор признаков\n",
    "\n",
    "- производился построением нескольких моделей на всей совокупности признаков, из которых потом была отобрана группа (около 5) достаточно значимых, но слабо между собой связанных (корреляционная матрица).\n",
    "- далее в разных комбинациях добавлялись разные признаки со сравнением показателей r2\n",
    "- в итоге:"
   ]
  },
  {
   "cell_type": "code",
   "execution_count": 78,
   "id": "9667e57c",
   "metadata": {},
   "outputs": [],
   "source": [
    "selected_features = ['Square', 'Rooms', 'DistrictSize', 'Social_3', 'Social_1_by_2', 'HouseFloor', \\\n",
    "                     'Floor', 'HouseYear', 'MedPriceByYear', 'Ecology_1', 'Floor_last', \\\n",
    "                     'Floor_first', 'HouseYear_bins']\n",
    "\n",
    "target_name = 'Price'"
   ]
  },
  {
   "cell_type": "markdown",
   "id": "9d55045f",
   "metadata": {},
   "source": [
    "### 5. Разбиение на train и test"
   ]
  },
  {
   "cell_type": "code",
   "execution_count": 79,
   "id": "9ef9327b",
   "metadata": {},
   "outputs": [],
   "source": [
    "train_df = pd.read_csv(TRAIN_DATASET_PATH)\n",
    "test_df = pd.read_csv(TEST_DATASET_PATH)\n",
    "\n",
    "X = train_df.drop(columns=target_name)\n",
    "y = train_df[target_name]"
   ]
  },
  {
   "cell_type": "code",
   "execution_count": 80,
   "id": "acd49b24",
   "metadata": {},
   "outputs": [],
   "source": [
    "X_train, X_valid, y_train, y_valid = train_test_split(X, y, test_size=0.33, shuffle=True, random_state=21)"
   ]
  },
  {
   "cell_type": "code",
   "execution_count": 81,
   "id": "eaaae711",
   "metadata": {},
   "outputs": [
    {
     "data": {
      "text/plain": [
       "((6700, 18), (3300, 18), (5000, 18))"
      ]
     },
     "execution_count": 81,
     "metadata": {},
     "output_type": "execute_result"
    }
   ],
   "source": [
    "# предобработка\n",
    "preprocessor = DataPreprocessing()\n",
    "preprocessor.fit(X_train)\n",
    "\n",
    "X_train = preprocessor.transform(X_train)\n",
    "X_valid = preprocessor.transform(X_valid)\n",
    "test_df = preprocessor.transform(test_df)\n",
    "\n",
    "X_train.shape, X_valid.shape, test_df.shape"
   ]
  },
  {
   "cell_type": "code",
   "execution_count": 82,
   "id": "74786348",
   "metadata": {},
   "outputs": [
    {
     "data": {
      "text/plain": [
       "((6700, 27), (3300, 27), (5000, 27))"
      ]
     },
     "execution_count": 82,
     "metadata": {},
     "output_type": "execute_result"
    }
   ],
   "source": [
    "# генерация признаков\n",
    "features_gen = FeatureGenetator()\n",
    "features_gen.fit(X_train, y_train)\n",
    "\n",
    "X_train = features_gen.transform(X_train)\n",
    "X_valid = features_gen.transform(X_valid)\n",
    "test_df = features_gen.transform(test_df)\n",
    "\n",
    "X_train.shape, X_valid.shape, test_df.shape"
   ]
  },
  {
   "cell_type": "code",
   "execution_count": 83,
   "id": "53dd2713",
   "metadata": {},
   "outputs": [
    {
     "data": {
      "text/plain": [
       "((6700, 13), (3300, 13), (5000, 13))"
      ]
     },
     "execution_count": 83,
     "metadata": {},
     "output_type": "execute_result"
    }
   ],
   "source": [
    "# отбор признаков\n",
    "X_train = X_train[selected_features]\n",
    "X_valid = X_valid[selected_features]\n",
    "test_df = test_df[selected_features]\n",
    "\n",
    "X_train.shape, X_valid.shape, test_df.shape"
   ]
  },
  {
   "cell_type": "code",
   "execution_count": 84,
   "id": "0c1245a7",
   "metadata": {},
   "outputs": [
    {
     "data": {
      "text/plain": [
       "(0, 0, 0)"
      ]
     },
     "execution_count": 84,
     "metadata": {},
     "output_type": "execute_result"
    }
   ],
   "source": [
    "X_train.isna().sum().sum(), X_valid.isna().sum().sum(), test_df.isna().sum().sum()"
   ]
  },
  {
   "cell_type": "markdown",
   "id": "eba09f4e",
   "metadata": {},
   "source": [
    "### 6. Построение модели\n",
    "\n",
    "В качестве окончательной модели был выбран RandomForestRegressor с подбором параметров на GridSearchCV\n",
    "\n",
    "Интересно, что неплохо себя показал KNN (r2 = 0.7 для валидационной выборки без подгонки и отбора)"
   ]
  },
  {
   "cell_type": "code",
   "execution_count": 85,
   "id": "e34c646f",
   "metadata": {},
   "outputs": [
    {
     "data": {
      "text/plain": [
       "RandomForestRegressor(max_depth=17, max_features=5, min_samples_split=4,\n",
       "                      n_estimators=610, random_state=21)"
      ]
     },
     "execution_count": 85,
     "metadata": {},
     "output_type": "execute_result"
    }
   ],
   "source": [
    "rf_model = RandomForestRegressor(max_depth=17,\n",
    "                                 max_features=5,\n",
    "                                 min_samples_split=4,\n",
    "                                 n_estimators=610,\n",
    "                                 random_state=21,\n",
    "                                 criterion='mse')\n",
    "rf_model.fit(X_train, y_train)"
   ]
  },
  {
   "cell_type": "code",
   "execution_count": 86,
   "id": "40be8180",
   "metadata": {},
   "outputs": [
    {
     "name": "stdout",
     "output_type": "stream",
     "text": [
      "Train R2:\t0.935\n",
      "Test R2:\t0.745\n"
     ]
    },
    {
     "data": {
      "image/png": "[encoded data removed]",
      "text/plain": [
       "<Figure size 1296x720 with 2 Axes>"
      ]
     },
     "metadata": {
      "needs_background": "light"
     },
     "output_type": "display_data"
    }
   ],
   "source": [
    "y_train_preds = rf_model.predict(X_train)\n",
    "y_test_preds = rf_model.predict(X_valid)\n",
    "\n",
    "evaluate_preds(y_train, y_train_preds, y_valid, y_test_preds)"
   ]
  },
  {
   "cell_type": "code",
   "execution_count": 87,
   "id": "839c3423",
   "metadata": {},
   "outputs": [
    {
     "data": {
      "text/plain": [
       "(array([0.72780685, 0.66299467, 0.7161498 ]), 0.7023171085458637)"
      ]
     },
     "execution_count": 87,
     "metadata": {},
     "output_type": "execute_result"
    }
   ],
   "source": [
    "# кросс-валидация\n",
    "cv_score = cross_val_score(rf_model, X_train, y_train, scoring='r2', cv=KFold(n_splits=3, shuffle=True, random_state=21))\n",
    "cv_score, cv_score.mean()"
   ]
  },
  {
   "cell_type": "markdown",
   "id": "0dd98f6d",
   "metadata": {},
   "source": [
    "**Важность признаков**"
   ]
  },
  {
   "cell_type": "code",
   "execution_count": 88,
   "id": "320127d6",
   "metadata": {},
   "outputs": [
    {
     "data": {
      "text/html": [
       "<div>\n",
       "<style scoped>\n",
       "    .dataframe tbody tr th:only-of-type {\n",
       "        vertical-align: middle;\n",
       "    }\n",
       "\n",
       "    .dataframe tbody tr th {\n",
       "        vertical-align: top;\n",
       "    }\n",
       "\n",
       "    .dataframe thead th {\n",
       "        text-align: right;\n",
       "    }\n",
       "</style>\n",
       "<table border=\"1\" class=\"dataframe\">\n",
       "  <thead>\n",
       "    <tr style=\"text-align: right;\">\n",
       "      <th></th>\n",
       "      <th>feature_name</th>\n",
       "      <th>importance</th>\n",
       "    </tr>\n",
       "  </thead>\n",
       "  <tbody>\n",
       "    <tr>\n",
       "      <th>0</th>\n",
       "      <td>Square</td>\n",
       "      <td>0.334224</td>\n",
       "    </tr>\n",
       "    <tr>\n",
       "      <th>2</th>\n",
       "      <td>DistrictSize</td>\n",
       "      <td>0.170304</td>\n",
       "    </tr>\n",
       "    <tr>\n",
       "      <th>1</th>\n",
       "      <td>Rooms</td>\n",
       "      <td>0.137131</td>\n",
       "    </tr>\n",
       "    <tr>\n",
       "      <th>3</th>\n",
       "      <td>Social_3</td>\n",
       "      <td>0.088977</td>\n",
       "    </tr>\n",
       "    <tr>\n",
       "      <th>4</th>\n",
       "      <td>Social_1_by_2</td>\n",
       "      <td>0.056713</td>\n",
       "    </tr>\n",
       "    <tr>\n",
       "      <th>9</th>\n",
       "      <td>Ecology_1</td>\n",
       "      <td>0.053290</td>\n",
       "    </tr>\n",
       "    <tr>\n",
       "      <th>7</th>\n",
       "      <td>HouseYear</td>\n",
       "      <td>0.044230</td>\n",
       "    </tr>\n",
       "    <tr>\n",
       "      <th>5</th>\n",
       "      <td>HouseFloor</td>\n",
       "      <td>0.036907</td>\n",
       "    </tr>\n",
       "    <tr>\n",
       "      <th>8</th>\n",
       "      <td>MedPriceByYear</td>\n",
       "      <td>0.034734</td>\n",
       "    </tr>\n",
       "    <tr>\n",
       "      <th>6</th>\n",
       "      <td>Floor</td>\n",
       "      <td>0.025970</td>\n",
       "    </tr>\n",
       "    <tr>\n",
       "      <th>12</th>\n",
       "      <td>HouseYear_bins</td>\n",
       "      <td>0.012020</td>\n",
       "    </tr>\n",
       "    <tr>\n",
       "      <th>10</th>\n",
       "      <td>Floor_last</td>\n",
       "      <td>0.003128</td>\n",
       "    </tr>\n",
       "    <tr>\n",
       "      <th>11</th>\n",
       "      <td>Floor_first</td>\n",
       "      <td>0.002371</td>\n",
       "    </tr>\n",
       "  </tbody>\n",
       "</table>\n",
       "</div>"
      ],
      "text/plain": [
       "      feature_name  importance\n",
       "0           Square    0.334224\n",
       "2     DistrictSize    0.170304\n",
       "1            Rooms    0.137131\n",
       "3         Social_3    0.088977\n",
       "4    Social_1_by_2    0.056713\n",
       "9        Ecology_1    0.053290\n",
       "7        HouseYear    0.044230\n",
       "5       HouseFloor    0.036907\n",
       "8   MedPriceByYear    0.034734\n",
       "6            Floor    0.025970\n",
       "12  HouseYear_bins    0.012020\n",
       "10      Floor_last    0.003128\n",
       "11     Floor_first    0.002371"
      ]
     },
     "execution_count": 88,
     "metadata": {},
     "output_type": "execute_result"
    }
   ],
   "source": [
    "feature_importances = pd.DataFrame(zip(X_train.columns, rf_model.feature_importances_), \n",
    "                                   columns=['feature_name', 'importance'])\n",
    "\n",
    "feature_importances.sort_values(by='importance', ascending=False)"
   ]
  },
  {
   "cell_type": "markdown",
   "id": "362004d1",
   "metadata": {},
   "source": [
    "### 7. Прогнозирование на тестовом датасете"
   ]
  },
  {
   "cell_type": "code",
   "execution_count": 89,
   "id": "f797d852",
   "metadata": {},
   "outputs": [
    {
     "data": {
      "text/plain": [
       "array([160731.85964876, 121508.76258115, 141093.47055374, ...,\n",
       "       147874.3627761 , 187968.2614617 , 234154.18379354])"
      ]
     },
     "execution_count": 89,
     "metadata": {},
     "output_type": "execute_result"
    }
   ],
   "source": [
    "predictions = rf_model.predict(test_df)\n",
    "predictions"
   ]
  },
  {
   "cell_type": "code",
   "execution_count": 90,
   "id": "b51859b0",
   "metadata": {},
   "outputs": [],
   "source": [
    "submit = pd.read_csv('./sample_submission.csv')"
   ]
  },
  {
   "cell_type": "code",
   "execution_count": 91,
   "id": "68ce54f3",
   "metadata": {},
   "outputs": [
    {
     "data": {
      "text/html": [
       "<div>\n",
       "<style scoped>\n",
       "    .dataframe tbody tr th:only-of-type {\n",
       "        vertical-align: middle;\n",
       "    }\n",
       "\n",
       "    .dataframe tbody tr th {\n",
       "        vertical-align: top;\n",
       "    }\n",
       "\n",
       "    .dataframe thead th {\n",
       "        text-align: right;\n",
       "    }\n",
       "</style>\n",
       "<table border=\"1\" class=\"dataframe\">\n",
       "  <thead>\n",
       "    <tr style=\"text-align: right;\">\n",
       "      <th></th>\n",
       "      <th>Id</th>\n",
       "      <th>Price</th>\n",
       "    </tr>\n",
       "  </thead>\n",
       "  <tbody>\n",
       "    <tr>\n",
       "      <th>0</th>\n",
       "      <td>4567</td>\n",
       "      <td>160731.859649</td>\n",
       "    </tr>\n",
       "    <tr>\n",
       "      <th>1</th>\n",
       "      <td>5925</td>\n",
       "      <td>121508.762581</td>\n",
       "    </tr>\n",
       "    <tr>\n",
       "      <th>2</th>\n",
       "      <td>960</td>\n",
       "      <td>141093.470554</td>\n",
       "    </tr>\n",
       "    <tr>\n",
       "      <th>3</th>\n",
       "      <td>3848</td>\n",
       "      <td>159135.336710</td>\n",
       "    </tr>\n",
       "    <tr>\n",
       "      <th>4</th>\n",
       "      <td>746</td>\n",
       "      <td>195012.070258</td>\n",
       "    </tr>\n",
       "  </tbody>\n",
       "</table>\n",
       "</div>"
      ],
      "text/plain": [
       "     Id          Price\n",
       "0  4567  160731.859649\n",
       "1  5925  121508.762581\n",
       "2   960  141093.470554\n",
       "3  3848  159135.336710\n",
       "4   746  195012.070258"
      ]
     },
     "execution_count": 91,
     "metadata": {},
     "output_type": "execute_result"
    }
   ],
   "source": [
    "submit['Price'] = predictions\n",
    "submit.head()"
   ]
  },
  {
   "cell_type": "code",
   "execution_count": 92,
   "id": "588f217d",
   "metadata": {},
   "outputs": [],
   "source": [
    "submit.to_csv('OPorfiryeva_submit.csv', index=False)"
   ]
  },
  {
   "cell_type": "code",
   "execution_count": null,
   "id": "b6f124d8",
   "metadata": {},
   "outputs": [],
   "source": []
  }
 ],
 "metadata": {
  "kernelspec": {
   "display_name": "Python 3 (ipykernel)",
   "language": "python",
   "name": "python3"
  },
  "language_info": {
   "codemirror_mode": {
    "name": "ipython",
    "version": 3
   },
   "file_extension": ".py",
   "mimetype": "text/x-python",
   "name": "python",
   "nbconvert_exporter": "python",
   "pygments_lexer": "ipython3",
   "version": "3.8.8"
  }
 },
 "nbformat": 4,
 "nbformat_minor": 5
}
